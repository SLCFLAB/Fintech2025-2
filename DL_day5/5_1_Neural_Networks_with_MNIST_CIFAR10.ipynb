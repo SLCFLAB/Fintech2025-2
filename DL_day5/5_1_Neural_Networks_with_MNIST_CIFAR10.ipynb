{
  "cells": [
    {
      "cell_type": "markdown",
      "metadata": {
        "id": "vA4tKFINknxn"
      },
      "source": [
        "# Neural Networks with MNIST"
      ]
    },
    {
      "cell_type": "code",
      "execution_count": 1,
      "metadata": {
        "id": "QJ9KEy_Nknx3"
      },
      "outputs": [],
      "source": [
        "import torch\n",
        "import torch.nn as nn\n",
        "import torch.optim as optim\n",
        "from torch.utils.data import DataLoader\n",
        "\n",
        "import torchvision.datasets as dsets\n",
        "import torchvision.transforms as transforms\n",
        "\n",
        "import numpy as np\n",
        "import random"
      ]
    },
    {
      "cell_type": "code",
      "execution_count": 2,
      "metadata": {
        "id": "WkRpTTYIknx6"
      },
      "outputs": [],
      "source": [
        "import matplotlib.pyplot as plt\n",
        "%matplotlib inline"
      ]
    },
    {
      "cell_type": "markdown",
      "metadata": {
        "id": "5F8Qb4bcknx7"
      },
      "source": [
        "## 1. Prepare MNIST Data"
      ]
    },
    {
      "cell_type": "code",
      "execution_count": 3,
      "metadata": {
        "colab": {
          "base_uri": "https://localhost:8080/"
        },
        "id": "JgwHVJw4knx8",
        "outputId": "91632e6c-c266-4414-85e8-a36a6fc16966"
      },
      "outputs": [
        {
          "output_type": "stream",
          "name": "stderr",
          "text": [
            "100%|██████████| 9.91M/9.91M [00:00<00:00, 39.8MB/s]\n",
            "100%|██████████| 28.9k/28.9k [00:00<00:00, 1.20MB/s]\n",
            "100%|██████████| 1.65M/1.65M [00:00<00:00, 9.40MB/s]\n",
            "100%|██████████| 4.54k/4.54k [00:00<00:00, 10.8MB/s]\n"
          ]
        }
      ],
      "source": [
        "train_data = dsets.MNIST(root='data/',\n",
        "                         train=True,\n",
        "                         transform=transforms.ToTensor(),\n",
        "                         download=True)\n",
        "\n",
        "test_data = dsets.MNIST(root='data/',\n",
        "                        train=False,\n",
        "                        transform=transforms.ToTensor(),\n",
        "                        download=True)"
      ]
    },
    {
      "cell_type": "code",
      "execution_count": 4,
      "metadata": {
        "colab": {
          "base_uri": "https://localhost:8080/",
          "height": 442
        },
        "id": "sa56g4mVknx9",
        "outputId": "b9fa03d1-6d2e-400f-c704-c0fc67a7d444"
      },
      "outputs": [
        {
          "output_type": "execute_result",
          "data": {
            "text/plain": [
              "<matplotlib.image.AxesImage at 0x7a2dd3b10b50>"
            ]
          },
          "metadata": {},
          "execution_count": 4
        },
        {
          "output_type": "display_data",
          "data": {
            "text/plain": [
              "<Figure size 1500x500 with 3 Axes>"
            ],
            "image/png": "[encoded data removed]"
          },
          "metadata": {}
        }
      ],
      "source": [
        "fig = plt.figure(figsize = (15, 5))\n",
        "ax1 = fig.add_subplot(1, 3, 1)\n",
        "ax2 = fig.add_subplot(1, 3, 2)\n",
        "ax3 = fig.add_subplot(1, 3, 3)\n",
        "\n",
        "ax1.set_title(train_data.targets[0].item())\n",
        "ax1.imshow(train_data.data[0,:,:].numpy(), cmap='gray')\n",
        "\n",
        "ax2.set_title(train_data.targets[1].item())\n",
        "ax2.imshow(train_data.data[1,:,:].numpy(), cmap='gray')\n",
        "\n",
        "ax3.set_title(train_data.targets[2].item())\n",
        "ax3.imshow(train_data.data[2,:,:].numpy(), cmap='gray')"
      ]
    },
    {
      "cell_type": "markdown",
      "metadata": {
        "id": "PvtpJtUlknyA"
      },
      "source": [
        "## 2. Make Batch Loader"
      ]
    },
    {
      "cell_type": "code",
      "execution_count": 5,
      "metadata": {
        "id": "cvlnBy5FknyB"
      },
      "outputs": [],
      "source": [
        "batch_size = 100\n",
        "\n",
        "train_loader  = DataLoader(dataset=train_data,\n",
        "                           batch_size=batch_size,\n",
        "                           shuffle=True)"
      ]
    },
    {
      "cell_type": "code",
      "execution_count": 6,
      "metadata": {
        "colab": {
          "base_uri": "https://localhost:8080/"
        },
        "id": "x3tU-9AXknyD",
        "outputId": "567db984-9480-4018-9fd2-d2de557fb4f7"
      },
      "outputs": [
        {
          "output_type": "stream",
          "name": "stdout",
          "text": [
            "[3 4 3 6 3 9 2 7 1 7 9 0 6 1 6 5 3 8 4 6 3 6 7 7 2 5 5 4 9 3 7 7 8 1 2 0 8\n",
            " 6 9 4 2 0 4 0 3 3 0 5 1 3 6 1 2 3 2 1 8 3 3 6 0 0 2 1 7 5 5 8 1 4 4 7 1 6\n",
            " 3 4 8 4 2 8 9 4 1 8 2 9 6 4 7 8 2 4 5 6 6 2 5 1 6 0] ,  100\n"
          ]
        }
      ],
      "source": [
        "batch_images, batch_labels = next(iter(train_loader))\n",
        "print(batch_labels.numpy(), \", \", len(batch_labels.numpy()))"
      ]
    },
    {
      "cell_type": "markdown",
      "metadata": {
        "id": "jmI1yaHFknyF"
      },
      "source": [
        "## 3. Define Model"
      ]
    },
    {
      "cell_type": "code",
      "execution_count": 7,
      "metadata": {
        "id": "WCrNVzlhknyG"
      },
      "outputs": [],
      "source": [
        "model = nn.Sequential(\n",
        "    nn.Linear(784, 512),\n",
        "    nn.ReLU(),\n",
        "    nn.Linear(512, 10)\n",
        ")"
      ]
    },
    {
      "cell_type": "code",
      "execution_count": 8,
      "metadata": {
        "id": "6qwGf3-gknyH"
      },
      "outputs": [],
      "source": [
        "loss = nn.CrossEntropyLoss()"
      ]
    },
    {
      "cell_type": "code",
      "execution_count": 9,
      "metadata": {
        "id": "bY6-sdaNknyI"
      },
      "outputs": [],
      "source": [
        "optimizer = optim.SGD(model.parameters(), lr=0.001)"
      ]
    },
    {
      "cell_type": "markdown",
      "metadata": {
        "id": "Ux-EfawyknyI"
      },
      "source": [
        "## 4 Train Model"
      ]
    },
    {
      "cell_type": "code",
      "execution_count": 10,
      "metadata": {
        "id": "e4FPd9QfknyJ"
      },
      "outputs": [],
      "source": [
        "num_epochs = 5"
      ]
    },
    {
      "cell_type": "code",
      "execution_count": 11,
      "metadata": {
        "colab": {
          "base_uri": "https://localhost:8080/"
        },
        "id": "Bt6jKQzQknyJ",
        "outputId": "3142c6e4-fc91-4dcc-e877-88f953a40795"
      },
      "outputs": [
        {
          "output_type": "stream",
          "name": "stdout",
          "text": [
            "Epoch [1/5], lter [300/600], Loss: 2.2512\n",
            "Epoch [1/5], lter [600/600], Loss: 2.1906\n",
            "Epoch [2/5], lter [300/600], Loss: 2.0891\n",
            "Epoch [2/5], lter [600/600], Loss: 1.9942\n",
            "Epoch [3/5], lter [300/600], Loss: 1.9456\n",
            "Epoch [3/5], lter [600/600], Loss: 1.8104\n",
            "Epoch [4/5], lter [300/600], Loss: 1.6487\n",
            "Epoch [4/5], lter [600/600], Loss: 1.6136\n",
            "Epoch [5/5], lter [300/600], Loss: 1.4885\n",
            "Epoch [5/5], lter [600/600], Loss: 1.2886\n",
            "Learning Finished!\n"
          ]
        }
      ],
      "source": [
        "## 오래걸림\n",
        "for epoch in range(num_epochs):\n",
        "\n",
        "    total_batch = len(train_data) // batch_size\n",
        "\n",
        "    for i, (batch_images, batch_labels) in enumerate(train_loader):\n",
        "\n",
        "        X = batch_images.view(-1, 28 * 28)\n",
        "        Y = batch_labels\n",
        "\n",
        "        pre = model(X)\n",
        "        cost = loss(pre, Y)\n",
        "\n",
        "        optimizer.zero_grad()\n",
        "        cost.backward()\n",
        "        optimizer.step()\n",
        "\n",
        "        if (i+1) % 300 == 0:\n",
        "            print('Epoch [%d/%d], lter [%d/%d], Loss: %.4f'\n",
        "                 %(epoch+1, num_epochs, i+1, total_batch, cost.item()))\n",
        "\n",
        "print(\"Learning Finished!\")"
      ]
    },
    {
      "cell_type": "markdown",
      "metadata": {
        "id": "YFw-sDUTknyK"
      },
      "source": [
        "## 5. Test Model"
      ]
    },
    {
      "cell_type": "code",
      "execution_count": 12,
      "metadata": {
        "colab": {
          "base_uri": "https://localhost:8080/"
        },
        "id": "ILJIT9PFknyL",
        "outputId": "d18aa72b-5bf0-4169-c931-b34aab27f21e"
      },
      "outputs": [
        {
          "output_type": "stream",
          "name": "stdout",
          "text": [
            "Accuracy of test images: 79.060000 %\n"
          ]
        }
      ],
      "source": [
        "correct = 0\n",
        "total = 0\n",
        "\n",
        "for images, labels in test_data:\n",
        "\n",
        "    images  = images.view(-1, 28 * 28)\n",
        "    outputs = model(images)\n",
        "\n",
        "    _, predicted = torch.max(outputs.data, 1)\n",
        "\n",
        "    total += 1\n",
        "    correct += (predicted == labels).sum()\n",
        "\n",
        "print('Accuracy of test images: %f %%' % (100 * float(correct) / total))"
      ]
    },
    {
      "cell_type": "code",
      "execution_count": 13,
      "metadata": {
        "id": "hEhrMvRdknyL"
      },
      "outputs": [],
      "source": [
        "r = random.randint(0, len(test_data)-1)\n",
        "X_single_data = test_data.data[r:r + 1].view(-1,28*28).float()\n",
        "Y_single_data = test_data.targets[r:r + 1]"
      ]
    },
    {
      "cell_type": "code",
      "execution_count": 14,
      "metadata": {
        "colab": {
          "base_uri": "https://localhost:8080/",
          "height": 467
        },
        "id": "NDw5JxFnknyM",
        "outputId": "bf4e10ad-1671-4f0d-e755-5c6c092e5587"
      },
      "outputs": [
        {
          "output_type": "stream",
          "name": "stdout",
          "text": [
            "Label :  [7]\n",
            "Prediction :  [1]\n"
          ]
        },
        {
          "output_type": "display_data",
          "data": {
            "text/plain": [
              "<Figure size 640x480 with 1 Axes>"
            ],
            "image/png": "[encoded data removed]"
          },
          "metadata": {}
        }
      ],
      "source": [
        "single_pre = model(X_single_data)\n",
        "plt.imshow(X_single_data.data.view(28,28).numpy(), cmap='gray')\n",
        "\n",
        "print('Label : ', Y_single_data.data.view(1).numpy())\n",
        "print('Prediction : ', torch.max(single_pre.data, 1)[1].numpy())"
      ]
    },
    {
      "cell_type": "markdown",
      "metadata": {
        "id": "4TC2SgDnWD43"
      },
      "source": []
    },
    {
      "cell_type": "markdown",
      "metadata": {
        "id": "Sm-ObGvTWD43"
      },
      "source": [
        "# Deep Learning Practice with CIFAR-10"
      ]
    },
    {
      "cell_type": "markdown",
      "metadata": {
        "id": "F1PEbd2IWD43"
      },
      "source": [
        "Ref:    \n",
        "https://pytorch.org/tutorials/beginner/blitz/cifar10_tutorial.html    \n",
        "https://teddylee777.github.io/pytorch/torchvision-transform/"
      ]
    },
    {
      "cell_type": "markdown",
      "metadata": {
        "id": "86Ah31jPWD43"
      },
      "source": [
        "## Import libraries"
      ]
    },
    {
      "cell_type": "code",
      "execution_count": 37,
      "metadata": {
        "colab": {
          "base_uri": "https://localhost:8080/"
        },
        "id": "Q-iDtQUxWD43",
        "outputId": "3f014ba2-5916-4584-a289-c2fccc166f17"
      },
      "outputs": [
        {
          "output_type": "stream",
          "name": "stdout",
          "text": [
            "Collecting torchsummary\n",
            "  Downloading torchsummary-1.5.1-py3-none-any.whl.metadata (296 bytes)\n",
            "Downloading torchsummary-1.5.1-py3-none-any.whl (2.8 kB)\n",
            "Installing collected packages: torchsummary\n",
            "Successfully installed torchsummary-1.5.1\n"
          ]
        }
      ],
      "source": [
        "import numpy as np\n",
        "import matplotlib.pyplot as plt\n",
        "%matplotlib inline\n",
        "\n",
        "import torch\n",
        "import torch.nn as nn\n",
        "import torch.nn.functional as F\n",
        "import torch.optim as optim\n",
        "\n",
        "from torch.utils.data import DataLoader\n",
        "\n",
        "from torchvision import datasets, transforms\n",
        "from torchvision.utils import make_grid\n",
        "\n",
        "!pip install torchsummary\n",
        "from torchsummary import summary"
      ]
    },
    {
      "cell_type": "markdown",
      "metadata": {
        "id": "LTT95cpcWD43"
      },
      "source": [
        "## Input Normalization"
      ]
    },
    {
      "cell_type": "markdown",
      "metadata": {
        "id": "VwT0Z_NxWD43"
      },
      "source": [
        "**Important: The output of torchvision datasets are PILImage images of range [0, 1]**"
      ]
    },
    {
      "cell_type": "markdown",
      "metadata": {
        "id": "KZDi8dwFWD43"
      },
      "source": [
        "딥러닝 모델을 학습시키는 데에 있어 전처리는 필수적입니다. 특히 이미지의 경우 RGB 형식으로 표현될 경우 채널 당 픽셀값이 0~255까지 굉장히 큰 범위를 가지고 있기 때문에 어떠한 방식으로 이미지 데이터에 대해 **정규화(Normalization)** 처리를 하는 가에 따라 성능이 바뀌기도 합니다. 정규화를 진행하지 않을 경우, backpropagation을 통한 학습 자체가 유의미하게 이루어지지 않을 수 있습니다. 이미지 뿐만 아니라 모든 종류의 데이터에 대해 전처리를 어떻게 하는 것인가는 전반적인 모델의 학습결과에 큰 영향을 주게 됩니다."
      ]
    },
    {
      "cell_type": "code",
      "execution_count": 17,
      "metadata": {
        "id": "M6O6VBX_WD43"
      },
      "outputs": [],
      "source": [
        "# Define helper function to check statistics for each RGB channel\n",
        "def print_stats(dataset):\n",
        "    imgs = np.array([img.numpy() for img, _ in dataset])\n",
        "    print(f'shape: {imgs.shape}')\n",
        "\n",
        "    min_r = np.min(imgs, axis=(2, 3))[:, 0].min()\n",
        "    min_g = np.min(imgs, axis=(2, 3))[:, 1].min()\n",
        "    min_b = np.min(imgs, axis=(2, 3))[:, 2].min()\n",
        "\n",
        "    max_r = np.max(imgs, axis=(2, 3))[:, 0].max()\n",
        "    max_g = np.max(imgs, axis=(2, 3))[:, 1].max()\n",
        "    max_b = np.max(imgs, axis=(2, 3))[:, 2].max()\n",
        "\n",
        "    mean_r = np.mean(imgs, axis=(2, 3))[:, 0].mean()\n",
        "    mean_g = np.mean(imgs, axis=(2, 3))[:, 1].mean()\n",
        "    mean_b = np.mean(imgs, axis=(2, 3))[:, 2].mean()\n",
        "\n",
        "    std_r = np.std(imgs, axis=(2, 3))[:, 0].std()\n",
        "    std_g = np.std(imgs, axis=(2, 3))[:, 1].std()\n",
        "    std_b = np.std(imgs, axis=(2, 3))[:, 2].std()\n",
        "\n",
        "    print(f'min: {min_r, min_g, min_b}')\n",
        "    print(f'max: {max_r, max_g, max_b}')\n",
        "    print(f'mean: {mean_r, mean_g, mean_b}')\n",
        "    print(f'std: {std_r, std_g, std_b}')"
      ]
    },
    {
      "cell_type": "markdown",
      "metadata": {
        "id": "Z4gsDizOWD44"
      },
      "source": [
        "### torchvision의 transforms를 활용한 전처리\n",
        "`transforms.ToTensor()`: Tensor 형태로 변환    \n",
        "`transforms.Normalize()`: mean, standard deviation을 이용하여 tensor image를 normalize함.\n",
        "* Input: tuple of means, tuple of std.dev.\n",
        "* Output value: (Pixel value - channel mean) / (channel std.dev)"
      ]
    },
    {
      "cell_type": "markdown",
      "metadata": {
        "id": "LBu_otkGWD44"
      },
      "source": [
        "Case 0: `transforms.ToTensor()`만 적용한 경우: 전처리 결과가 0~1 범위로 변환"
      ]
    },
    {
      "cell_type": "code",
      "execution_count": 18,
      "metadata": {
        "id": "oU04SIlSWD44"
      },
      "outputs": [],
      "source": [
        "transform_0 = transforms.Compose([\n",
        "    transforms.ToTensor()\n",
        "])"
      ]
    },
    {
      "cell_type": "markdown",
      "metadata": {
        "id": "F1LlVcf2WD44"
      },
      "source": [
        "Case 1: `transforms.Normalize()`를 이용하여 전처리 결과가 -1~1 범위로 변환    \n",
        "- min value: (0 - 0.5) / 0.5\n",
        "- max value: (1 - 0.5) / 0.5"
      ]
    },
    {
      "cell_type": "code",
      "execution_count": 19,
      "metadata": {
        "id": "1N2-hZfuWD44"
      },
      "outputs": [],
      "source": [
        "transform_1 = transforms.Compose([\n",
        "    # ToTensor는 항상 포함해야 함. PIL Image 형태로는 Normalize 불가능.\n",
        "    transforms.ToTensor(),\n",
        "    transforms.Normalize((0.5, 0.5, 0.5), (0.5, 0.5, 0.5))\n",
        "])"
      ]
    },
    {
      "cell_type": "markdown",
      "metadata": {
        "id": "xDXvI0k_WD44"
      },
      "source": [
        "Case 2: Popular parameter를 이용해서 Normalize"
      ]
    },
    {
      "cell_type": "code",
      "execution_count": 20,
      "metadata": {
        "id": "obvGvYfrWD44"
      },
      "outputs": [],
      "source": [
        "transform_2 = transforms.Compose([\n",
        "    transforms.ToTensor(),\n",
        "    transforms.Normalize((0.485, 0.456, 0.406), (0.229, 0.224, 0.225))\n",
        "])"
      ]
    },
    {
      "cell_type": "markdown",
      "metadata": {
        "id": "Nplml7OzWD44"
      },
      "source": [
        "Case 3: Custom parameter를 이용해서 Normalize   \n",
        "(ex) Sample mean, Sample std.dev"
      ]
    },
    {
      "cell_type": "markdown",
      "metadata": {
        "id": "SUYuJ_8WWD44"
      },
      "source": [
        "- 기타 transform 종류\n",
        "    - transforms.Normalize(mean, std)\n",
        "    - transforms.Resize(size): 이미지 크기 조정\n",
        "    - transforms.RandomCrop(size): 이미지 크롭\n",
        "    - transforms.RandomRotation(degrees): 회전"
      ]
    },
    {
      "cell_type": "markdown",
      "metadata": {
        "id": "NEpUA0IwWD45"
      },
      "source": [
        "### Load Dataset"
      ]
    },
    {
      "cell_type": "code",
      "execution_count": 21,
      "metadata": {
        "id": "xjuH2cI2WD45"
      },
      "outputs": [],
      "source": [
        "# transform = transform_0\n",
        "transform = transform_1\n",
        "# transform = transform_2"
      ]
    },
    {
      "cell_type": "code",
      "execution_count": 22,
      "metadata": {
        "colab": {
          "base_uri": "https://localhost:8080/"
        },
        "id": "vMa-vmfzWD45",
        "outputId": "b87788d1-f534-4c1e-8106-c9c7df0f0abc"
      },
      "outputs": [
        {
          "output_type": "stream",
          "name": "stderr",
          "text": [
            "100%|██████████| 170M/170M [00:02<00:00, 64.7MB/s]\n"
          ]
        }
      ],
      "source": [
        "trainset = datasets.CIFAR10(\n",
        "    root = './data',\n",
        "    train = True,\n",
        "    download = True,\n",
        "    transform = transform\n",
        ")"
      ]
    },
    {
      "cell_type": "code",
      "execution_count": 23,
      "metadata": {
        "id": "T59YMdabWD45"
      },
      "outputs": [],
      "source": [
        "testset = datasets.CIFAR10(\n",
        "    root = './data',\n",
        "    train = False,\n",
        "    download = True,\n",
        "    transform = transform\n",
        ")"
      ]
    },
    {
      "cell_type": "code",
      "execution_count": 24,
      "metadata": {
        "id": "Vxt_XATSWD45"
      },
      "outputs": [],
      "source": [
        "batch_size = 4"
      ]
    },
    {
      "cell_type": "code",
      "execution_count": 25,
      "metadata": {
        "id": "Rck18m2GWD45"
      },
      "outputs": [],
      "source": [
        "train_loader = DataLoader(\n",
        "    trainset,\n",
        "    batch_size = batch_size,\n",
        "    shuffle = True,\n",
        "    num_workers = 1\n",
        ")"
      ]
    },
    {
      "cell_type": "code",
      "execution_count": 26,
      "metadata": {
        "id": "xJhEi3jnWD46"
      },
      "outputs": [],
      "source": [
        "test_loader = DataLoader(\n",
        "    testset,\n",
        "    batch_size = batch_size,\n",
        "    shuffle = False,\n",
        "    num_workers = 1\n",
        ")"
      ]
    },
    {
      "cell_type": "code",
      "execution_count": 27,
      "metadata": {
        "id": "KvSq5RqwWD46"
      },
      "outputs": [],
      "source": [
        "classes = ('plane', 'car', 'bird', 'cat', 'deer', 'dog', 'frog', 'horse', 'ship', 'truck')"
      ]
    },
    {
      "cell_type": "markdown",
      "metadata": {
        "id": "L52GPyFAWD46"
      },
      "source": [
        "### Check stats and print image"
      ]
    },
    {
      "cell_type": "code",
      "execution_count": 28,
      "metadata": {
        "colab": {
          "base_uri": "https://localhost:8080/"
        },
        "id": "jQb3pv5zWD46",
        "outputId": "a9cb1b54-10f6-4a09-9da5-649182c60ada"
      },
      "outputs": [
        {
          "output_type": "stream",
          "name": "stdout",
          "text": [
            "shape: (50000, 3, 32, 32)\n",
            "min: (-1.0, -1.0, -1.0)\n",
            "max: (1.0, 1.0, 1.0)\n",
            "mean: (-0.017200625, -0.035683163, -0.10693816)\n",
            "std: (0.121056795, 0.122249946, 0.13529024)\n"
          ]
        }
      ],
      "source": [
        "print_stats(trainset)"
      ]
    },
    {
      "cell_type": "code",
      "execution_count": 29,
      "metadata": {
        "colab": {
          "base_uri": "https://localhost:8080/"
        },
        "id": "KBLiYoVRWD46",
        "outputId": "c1c9a451-a36e-4d3a-b377-3449755b8599"
      },
      "outputs": [
        {
          "output_type": "stream",
          "name": "stdout",
          "text": [
            "shape: (10000, 3, 32, 32)\n",
            "min: (-1.0, -1.0, -1.0)\n",
            "max: (1.0, 1.0, 1.0)\n",
            "mean: (-0.011571422, -0.029737204, -0.0991818)\n",
            "std: (0.12095944, 0.12247972, 0.13516872)\n"
          ]
        }
      ],
      "source": [
        "print_stats(testset)"
      ]
    },
    {
      "cell_type": "markdown",
      "metadata": {
        "id": "Mdxx0I32WD46"
      },
      "source": [
        "**Recall: Always check the dimension and shape of the input**"
      ]
    },
    {
      "cell_type": "markdown",
      "metadata": {
        "id": "VwOWjGPzWD46"
      },
      "source": [
        "`print_stats()`에서 확인한 바와 같이 현재 이미지의 형태는 (3,32,32) 형태이다. 시각화를 위해서는 (32, 32, 3) 형태로 변환해주어야 함."
      ]
    },
    {
      "cell_type": "code",
      "execution_count": 30,
      "metadata": {
        "id": "-r-iI5CUWD46"
      },
      "outputs": [],
      "source": [
        "# This is for transform_1\n",
        "# How about for others????\n",
        "def imshow(img):\n",
        "\n",
        "    # unnormalize the image\n",
        "    img = img / 2 + 0.5\n",
        "\n",
        "    # convert image to numpy array\n",
        "    np_img = img.numpy()\n",
        "\n",
        "    plt.imshow(np.transpose(np_img, (1,2,0)))\n",
        "\n",
        "    plt.show()"
      ]
    },
    {
      "cell_type": "code",
      "execution_count": 31,
      "metadata": {
        "colab": {
          "base_uri": "https://localhost:8080/",
          "height": 211
        },
        "id": "8V6qoZwIWD47",
        "outputId": "350db184-e149-45b6-9fbf-464f0b7c9168"
      },
      "outputs": [
        {
          "output_type": "display_data",
          "data": {
            "text/plain": [
              "<Figure size 640x480 with 1 Axes>"
            ],
            "image/png": "[encoded data removed]"
          },
          "metadata": {}
        },
        {
          "output_type": "stream",
          "name": "stdout",
          "text": [
            "car   car   deer  bird \n"
          ]
        }
      ],
      "source": [
        "# get some random training images\n",
        "dataiter = iter(train_loader)\n",
        "images, labels = next(dataiter)\n",
        "\n",
        "# show images\n",
        "imshow(make_grid(images))\n",
        "\n",
        "# print labels\n",
        "print(' '.join(f'{classes[labels[j]]:5s}' for j in range(batch_size)))"
      ]
    },
    {
      "cell_type": "markdown",
      "metadata": {
        "id": "ftGOMbdsWD47"
      },
      "source": [
        "## Build Neural Network: Fully Connected Only"
      ]
    },
    {
      "cell_type": "code",
      "execution_count": 32,
      "metadata": {
        "id": "8CNz2N6OWD47"
      },
      "outputs": [],
      "source": [
        "class Net(nn.Module):\n",
        "    def __init__(self):\n",
        "        super().__init__()\n",
        "        self.fc1 = nn.Linear(32 * 32 * 3, 2**8)\n",
        "        self.fc2 = nn.Linear(2**8, 84)\n",
        "        self.fc3 = nn.Linear(84, 10)\n",
        "\n",
        "    def forward(self, x):\n",
        "        x = torch.flatten(x, 1)\n",
        "        x = F.relu(self.fc1(x))\n",
        "        x = F.relu(self.fc2(x))\n",
        "        x = self.fc3(x)\n",
        "        return x"
      ]
    },
    {
      "cell_type": "code",
      "execution_count": 33,
      "metadata": {
        "id": "lmR1pLWtWD47"
      },
      "outputs": [],
      "source": [
        "net = Net()"
      ]
    },
    {
      "cell_type": "code",
      "execution_count": 34,
      "metadata": {
        "id": "2A99OoacWD47"
      },
      "outputs": [],
      "source": [
        "device = torch.device('cuda:0' if torch.cuda.is_available() else 'cpu')"
      ]
    },
    {
      "cell_type": "code",
      "execution_count": 35,
      "metadata": {
        "id": "Zh3i1IqNWD47"
      },
      "outputs": [],
      "source": [
        "net = net.to(device)"
      ]
    },
    {
      "cell_type": "code",
      "execution_count": 38,
      "metadata": {
        "colab": {
          "base_uri": "https://localhost:8080/"
        },
        "id": "HoxY7dc0WD48",
        "outputId": "236afeac-6ff7-45e2-a35a-510e8d0e29dc"
      },
      "outputs": [
        {
          "output_type": "stream",
          "name": "stdout",
          "text": [
            "----------------------------------------------------------------\n",
            "        Layer (type)               Output Shape         Param #\n",
            "================================================================\n",
            "            Linear-1                   [4, 256]         786,688\n",
            "            Linear-2                    [4, 84]          21,588\n",
            "            Linear-3                    [4, 10]             850\n",
            "================================================================\n",
            "Total params: 809,126\n",
            "Trainable params: 809,126\n",
            "Non-trainable params: 0\n",
            "----------------------------------------------------------------\n",
            "Input size (MB): 0.05\n",
            "Forward/backward pass size (MB): 0.01\n",
            "Params size (MB): 3.09\n",
            "Estimated Total Size (MB): 3.14\n",
            "----------------------------------------------------------------\n"
          ]
        }
      ],
      "source": [
        "summary(net, (3,32,32), batch_size = batch_size)"
      ]
    },
    {
      "cell_type": "markdown",
      "metadata": {
        "id": "aOWc6Ho2WD48"
      },
      "source": [
        "## Set Loss Function and Optimizer"
      ]
    },
    {
      "cell_type": "markdown",
      "metadata": {
        "id": "IXxitVUdWD48"
      },
      "source": [
        "`momentum`: momentum from previous parameters -> dampens oscillations    \n",
        "`weight_decay`: L2 penalty in loss function"
      ]
    },
    {
      "cell_type": "code",
      "execution_count": 39,
      "metadata": {
        "id": "bFk2bXmdWD48"
      },
      "outputs": [],
      "source": [
        "criterion = nn.CrossEntropyLoss()"
      ]
    },
    {
      "cell_type": "code",
      "execution_count": 40,
      "metadata": {
        "id": "lGcxWSxaWD48"
      },
      "outputs": [],
      "source": [
        "optimizer = optim.SGD(\n",
        "    net.parameters(),\n",
        "    lr=0.001,\n",
        "#     momentum=0.9,\n",
        "#     weight_decay=0.9\n",
        ")"
      ]
    },
    {
      "cell_type": "markdown",
      "metadata": {
        "id": "JPuSVfOfWD48"
      },
      "source": [
        "Try some other optimizers!\n",
        "* Adagrad\n",
        "* RMSprop\n",
        "* AdaDelta\n",
        "* Adam"
      ]
    },
    {
      "cell_type": "markdown",
      "metadata": {
        "id": "uuaj4xRJWD48"
      },
      "source": [
        "## Train the Network"
      ]
    },
    {
      "cell_type": "code",
      "execution_count": 41,
      "metadata": {
        "id": "-y0RSG0YWD48"
      },
      "outputs": [],
      "source": [
        "num_epochs = 5"
      ]
    },
    {
      "cell_type": "code",
      "execution_count": 42,
      "metadata": {
        "colab": {
          "base_uri": "https://localhost:8080/"
        },
        "id": "rXcSnzezWD48",
        "outputId": "9039d792-6327-442c-c197-75fbbe1d3c66"
      },
      "outputs": [
        {
          "output_type": "stream",
          "name": "stdout",
          "text": [
            "[1,  2000] loss: 2.230\n",
            "[1,  4000] loss: 2.072\n",
            "[1,  6000] loss: 1.958\n",
            "[1,  8000] loss: 1.883\n",
            "[1, 10000] loss: 1.828\n",
            "[1, 12000] loss: 1.798\n",
            "[2,  2000] loss: 1.742\n",
            "[2,  4000] loss: 1.706\n",
            "[2,  6000] loss: 1.688\n",
            "[2,  8000] loss: 1.673\n",
            "[2, 10000] loss: 1.622\n",
            "[2, 12000] loss: 1.607\n",
            "[3,  2000] loss: 1.573\n",
            "[3,  4000] loss: 1.578\n",
            "[3,  6000] loss: 1.579\n",
            "[3,  8000] loss: 1.551\n",
            "[3, 10000] loss: 1.546\n",
            "[3, 12000] loss: 1.540\n",
            "[4,  2000] loss: 1.500\n",
            "[4,  4000] loss: 1.484\n",
            "[4,  6000] loss: 1.488\n",
            "[4,  8000] loss: 1.475\n",
            "[4, 10000] loss: 1.468\n",
            "[4, 12000] loss: 1.469\n",
            "[5,  2000] loss: 1.425\n",
            "[5,  4000] loss: 1.435\n",
            "[5,  6000] loss: 1.435\n",
            "[5,  8000] loss: 1.386\n",
            "[5, 10000] loss: 1.413\n",
            "[5, 12000] loss: 1.394\n",
            "Finished Training\n"
          ]
        }
      ],
      "source": [
        "# 오래걸림\n",
        "for epoch in range(num_epochs):  # loop over the dataset multiple times\n",
        "\n",
        "    running_loss = 0.0\n",
        "    for i, data in enumerate(train_loader, 0):\n",
        "\n",
        "        # get the inputs; data is a list of [inputs, labels]\n",
        "        inputs, labels = data[0].to(device), data[1].to(device)\n",
        "\n",
        "        # zero the parameter gradients\n",
        "        optimizer.zero_grad()\n",
        "\n",
        "        # forward + backward + optimize\n",
        "        outputs = net(inputs)\n",
        "        loss = criterion(outputs, labels)\n",
        "        loss.backward()\n",
        "        optimizer.step()\n",
        "\n",
        "        # print statistics\n",
        "        running_loss += loss.item()\n",
        "        if i % 2000 == 1999:    # print every 2000 mini-batches\n",
        "            print(f'[{epoch + 1}, {i + 1:5d}] loss: {running_loss / 2000:.3f}')\n",
        "            running_loss = 0.0\n",
        "\n",
        "print('Finished Training')"
      ]
    },
    {
      "cell_type": "code",
      "execution_count": 43,
      "metadata": {
        "id": "_LY1fd66WD49"
      },
      "outputs": [],
      "source": [
        "# save trained model\n",
        "PATH = './cifar_net.pth'\n",
        "torch.save(net.state_dict(), PATH)"
      ]
    },
    {
      "cell_type": "markdown",
      "metadata": {
        "id": "yjEr_RU5WD49"
      },
      "source": [
        "## Test the Network"
      ]
    },
    {
      "cell_type": "code",
      "execution_count": 44,
      "metadata": {
        "colab": {
          "base_uri": "https://localhost:8080/",
          "height": 211
        },
        "id": "3SA-bStKWD49",
        "outputId": "4b7b5f96-72f7-45eb-c4fd-7662d6e5be81"
      },
      "outputs": [
        {
          "output_type": "display_data",
          "data": {
            "text/plain": [
              "<Figure size 640x480 with 1 Axes>"
            ],
            "image/png": "[encoded data removed]"
          },
          "metadata": {}
        },
        {
          "output_type": "stream",
          "name": "stdout",
          "text": [
            "GroundTruth:  cat   ship  ship  plane\n"
          ]
        }
      ],
      "source": [
        "dataiter = iter(test_loader)\n",
        "images, labels = next(dataiter)\n",
        "\n",
        "# print images\n",
        "imshow(make_grid(images))\n",
        "print('GroundTruth: ', ' '.join(f'{classes[labels[j]]:5s}' for j in range(batch_size)))"
      ]
    },
    {
      "cell_type": "code",
      "execution_count": 45,
      "metadata": {
        "colab": {
          "base_uri": "https://localhost:8080/"
        },
        "id": "WF9E8XhcWD49",
        "outputId": "a181b5be-1bfd-45bd-821e-4ba845975e6f"
      },
      "outputs": [
        {
          "output_type": "execute_result",
          "data": {
            "text/plain": [
              "<All keys matched successfully>"
            ]
          },
          "metadata": {},
          "execution_count": 45
        }
      ],
      "source": [
        "net = Net()\n",
        "net.load_state_dict(torch.load(PATH))"
      ]
    },
    {
      "cell_type": "code",
      "execution_count": 46,
      "metadata": {
        "id": "2L6S-UnrWD49"
      },
      "outputs": [],
      "source": [
        "outputs = net(images)"
      ]
    },
    {
      "cell_type": "code",
      "execution_count": 47,
      "metadata": {
        "colab": {
          "base_uri": "https://localhost:8080/"
        },
        "id": "x5hmAVdbWD49",
        "outputId": "afee26db-cf66-4614-a918-d9b5b0ef8f32"
      },
      "outputs": [
        {
          "output_type": "stream",
          "name": "stdout",
          "text": [
            "Predicted:  cat   truck ship  ship \n"
          ]
        }
      ],
      "source": [
        "_, predicted = torch.max(outputs, 1)\n",
        "\n",
        "print('Predicted: ', ' '.join(f'{classes[predicted[j]]:5s}'\n",
        "                              for j in range(batch_size)))"
      ]
    },
    {
      "cell_type": "markdown",
      "metadata": {
        "id": "jpqtwAxuWD4-"
      },
      "source": [
        "### For the whole test dataset"
      ]
    },
    {
      "cell_type": "code",
      "execution_count": 48,
      "metadata": {
        "colab": {
          "base_uri": "https://localhost:8080/"
        },
        "id": "o3NoHXytWD4-",
        "outputId": "8c3d9eda-7102-42fd-81f1-51e923952943"
      },
      "outputs": [
        {
          "output_type": "stream",
          "name": "stdout",
          "text": [
            "Accuracy of the network on the 10000 test images: 50 %\n"
          ]
        }
      ],
      "source": [
        "correct = 0\n",
        "total = 0\n",
        "# since we're not training, we don't need to calculate the gradients for our outputs\n",
        "with torch.no_grad():\n",
        "    for data in test_loader:\n",
        "        images, labels = data\n",
        "        # calculate outputs by running images through the network\n",
        "        outputs = net(images)\n",
        "        # the class with the highest energy is what we choose as prediction\n",
        "        _, predicted = torch.max(outputs.data, 1)\n",
        "        total += labels.size(0)\n",
        "        correct += (predicted == labels).sum().item()\n",
        "\n",
        "print(f'Accuracy of the network on the 10000 test images: {100 * correct // total} %')"
      ]
    },
    {
      "cell_type": "code",
      "execution_count": 49,
      "metadata": {
        "colab": {
          "base_uri": "https://localhost:8080/"
        },
        "id": "RlVyiHmEWD4-",
        "outputId": "64a0d9c6-29e9-486d-8746-78a77ce42040"
      },
      "outputs": [
        {
          "output_type": "stream",
          "name": "stdout",
          "text": [
            "Accuracy for class: plane is 53.2 %\n",
            "Accuracy for class: car   is 61.8 %\n",
            "Accuracy for class: bird  is 35.9 %\n",
            "Accuracy for class: cat   is 29.1 %\n",
            "Accuracy for class: deer  is 35.7 %\n",
            "Accuracy for class: dog   is 39.5 %\n",
            "Accuracy for class: frog  is 61.2 %\n",
            "Accuracy for class: horse is 57.6 %\n",
            "Accuracy for class: ship  is 63.9 %\n",
            "Accuracy for class: truck is 64.2 %\n"
          ]
        }
      ],
      "source": [
        "# prepare to count predictions for each class\n",
        "correct_pred = {classname: 0 for classname in classes}\n",
        "total_pred = {classname: 0 for classname in classes}\n",
        "\n",
        "# again no gradients needed\n",
        "with torch.no_grad():\n",
        "    for data in test_loader:\n",
        "        images, labels = data\n",
        "        outputs = net(images)\n",
        "        _, predictions = torch.max(outputs, 1)\n",
        "        # collect the correct predictions for each class\n",
        "        for label, prediction in zip(labels, predictions):\n",
        "            if label == prediction:\n",
        "                correct_pred[classes[label]] += 1\n",
        "            total_pred[classes[label]] += 1\n",
        "\n",
        "\n",
        "# print accuracy for each class\n",
        "for classname, correct_count in correct_pred.items():\n",
        "    accuracy = 100 * float(correct_count) / total_pred[classname]\n",
        "    print(f'Accuracy for class: {classname:5s} is {accuracy:.1f} %')"
      ]
    }
  ],
  "metadata": {
    "colab": {
      "provenance": [],
      "gpuType": "V28"
    },
    "kernelspec": {
      "display_name": "Python 3",
      "name": "python3"
    },
    "language_info": {
      "codemirror_mode": {
        "name": "ipython",
        "version": 3
      },
      "file_extension": ".py",
      "mimetype": "text/x-python",
      "name": "python",
      "nbconvert_exporter": "python",
      "pygments_lexer": "ipython3",
      "version": "3.6.5"
    },
    "accelerator": "TPU"
  },
  "nbformat": 4,
  "nbformat_minor": 0
}