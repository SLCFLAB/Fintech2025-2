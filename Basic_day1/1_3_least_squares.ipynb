{
  "cells": [
    {
      "cell_type": "markdown",
      "metadata": {
        "id": "view-in-github"
      },
      "source": [
        "<a target=\"_blank\" href=\"https://colab.research.google.com/github/SLCFLAB/Fintech2025-2/blob/main/Basic_day1/1_3_least_squares.ipynb\">\n",
        "  <img src=\"https://colab.research.google.com/assets/colab-badge.svg\" alt=\"Open In Colab\"/>\n",
        "</a>"
      ]
    },
    {
      "cell_type": "markdown",
      "metadata": {
        "id": "mLc8gIlygRgv"
      },
      "source": [
        "# 1.3 Least Squares"
      ]
    },
    {
      "cell_type": "code",
      "execution_count": 1,
      "metadata": {
        "id": "RBaRLpRRgRgy"
      },
      "outputs": [],
      "source": [
        "import scipy\n",
        "from scipy import linalg\n",
        "import numpy as np\n",
        "\n",
        "import matplotlib.pyplot as plt\n",
        "%matplotlib inline"
      ]
    },
    {
      "cell_type": "markdown",
      "metadata": {},
      "source": [
        "## 1.3.1 QR factorization"
      ]
    },
    {
      "cell_type": "code",
      "execution_count": 2,
      "metadata": {},
      "outputs": [
        {
          "name": "stdout",
          "output_type": "stream",
          "text": [
            "Matrix A:\n",
            "[[1 2 3]\n",
            " [4 5 6]\n",
            " [7 8 9]]\n",
            "\n",
            "Orthogonal matrix Q:\n",
            "[[-0.12309149  0.90453403  0.40824829]\n",
            " [-0.49236596  0.30151134 -0.81649658]\n",
            " [-0.86164044 -0.30151134  0.40824829]]\n",
            "\n",
            "Upper triangular matrix R:\n",
            "[[-8.12403840e+00 -9.60113630e+00 -1.10782342e+01]\n",
            " [ 0.00000000e+00  9.04534034e-01  1.80906807e+00]\n",
            " [ 0.00000000e+00  0.00000000e+00 -8.88178420e-16]]\n",
            "\n",
            "Reconstructed A (Q * R):\n",
            "[[1. 2. 3.]\n",
            " [4. 5. 6.]\n",
            " [7. 8. 9.]]\n"
          ]
        }
      ],
      "source": [
        "# Example matrix\n",
        "A = np.array([[1, 2, 3], [4, 5, 6], [7, 8, 9]])\n",
        "\n",
        "# Perform QR factorization\n",
        "Q, R = np.linalg.qr(A)\n",
        "\n",
        "print(\"Matrix A:\")\n",
        "print(A)\n",
        "print(\"\\nOrthogonal matrix Q:\")\n",
        "print(Q)\n",
        "print(\"\\nUpper triangular matrix R:\")\n",
        "print(R)\n",
        "\n",
        "# Verify that Q * R reconstructs A\n",
        "reconstructed_A = np.dot(Q, R)\n",
        "print(\"\\nReconstructed A (Q * R):\")\n",
        "print(reconstructed_A)"
      ]
    },
    {
      "cell_type": "markdown",
      "metadata": {
        "id": "D0ZZgP3ugRg1"
      },
      "source": [
        "## 1.3.2 Linear Regression"
      ]
    },
    {
      "cell_type": "markdown",
      "metadata": {
        "id": "RMEdeTVGgRg1"
      },
      "source": [
        "@Solubility Data\n",
        "\n",
        "Tetko et al. (2001) and Huuskonen (2000) investigated a set of compounds with corresponding experimental solubility values using complex sets of descriptors. They used linear regression and neural network models to estimate the relationship between chemical structure and solubility. For our analyses, we will use 1267 compounds and a set of more understandable descriptors that fall into one of three groups: 208 binary \"fingerprints\" that indicate the presence or absence of a particular chemical sub-structure, 16 count descriptors (such as the number of bonds or the number of Bromine atoms) and 4 continuous descriptors (such as molecular weight or surface area).\n",
        "\n",
        "1267 observation (951+316)\n",
        "\n",
        "228 mixed variables\n",
        "\n",
        "www.rdocumentation.org/packages/AppliedPredictiveModeling/versions/1.1-6/topics/solubility"
      ]
    },
    {
      "cell_type": "code",
      "execution_count": 3,
      "metadata": {
        "colab": {
          "base_uri": "https://localhost:8080/"
        },
        "id": "OXvao9sBgRg2",
        "outputId": "20943f98-6c9e-4fec-abc3-afd21cbd5b0d"
      },
      "outputs": [
        {
          "name": "stdout",
          "output_type": "stream",
          "text": [
            "Data Loaded\n"
          ]
        }
      ],
      "source": [
        "import pandas as pd\n",
        "from sklearn import linear_model\n",
        "\n",
        "data_path_url = 'https://raw.githubusercontent.com/SLCFLAB/Fintech2025-2/main/Basic_day1/data/'\n",
        "\n",
        "data = {}\n",
        "f_list = [\"solTestX\", \"solTestY\", \"solTrainX\", \"solTrainY\"]\n",
        "\n",
        "for i in f_list :\n",
        "    data[i] = pd.read_csv(data_path_url+i+\".csv\", index_col=0)\n",
        "\n",
        "print(\"Data Loaded\")"
      ]
    },
    {
      "cell_type": "code",
      "execution_count": 4,
      "metadata": {
        "colab": {
          "base_uri": "https://localhost:8080/"
        },
        "id": "T-eF_WW1gRg2",
        "outputId": "2a6f158e-aaf2-47e7-850b-3f104599f71f"
      },
      "outputs": [
        {
          "name": "stdout",
          "output_type": "stream",
          "text": [
            "train data :  (951, 228)\n",
            "train label :  (951, 1)\n",
            "test data :  (316, 228)\n",
            "test label :  (316, 1)\n"
          ]
        }
      ],
      "source": [
        "train_data = data[\"solTrainX\"]\n",
        "train_label = data[\"solTrainY\"]\n",
        "test_data = data[\"solTestX\"]\n",
        "test_label = data[\"solTestY\"]\n",
        "\n",
        "print(\"train data : \", train_data.shape)\n",
        "print(\"train label : \", train_label.shape)\n",
        "print(\"test data : \", test_data.shape)\n",
        "print(\"test label : \", test_label.shape)\n",
        "\n",
        "arr = train_data.columns"
      ]
    },
    {
      "cell_type": "code",
      "execution_count": 5,
      "metadata": {
        "colab": {
          "base_uri": "https://localhost:8080/",
          "height": 255
        },
        "id": "4N3XvhuSgRg3",
        "outputId": "7f8092a5-6527-43b5-e86a-8d04091746a3"
      },
      "outputs": [
        {
          "data": {
            "application/vnd.microsoft.datawrangler.viewer.v0+json": {
              "columns": [
                {
                  "name": "index",
                  "rawType": "int64",
                  "type": "integer"
                },
                {
                  "name": "FP001",
                  "rawType": "int64",
                  "type": "integer"
                },
                {
                  "name": "FP002",
                  "rawType": "int64",
                  "type": "integer"
                },
                {
                  "name": "FP003",
                  "rawType": "int64",
                  "type": "integer"
                },
                {
                  "name": "FP004",
                  "rawType": "int64",
                  "type": "integer"
                },
                {
                  "name": "FP005",
                  "rawType": "int64",
                  "type": "integer"
                },
                {
                  "name": "FP006",
                  "rawType": "int64",
                  "type": "integer"
                },
                {
                  "name": "FP007",
                  "rawType": "int64",
                  "type": "integer"
                },
                {
                  "name": "FP008",
                  "rawType": "int64",
                  "type": "integer"
                },
                {
                  "name": "FP009",
                  "rawType": "int64",
                  "type": "integer"
                },
                {
                  "name": "FP010",
                  "rawType": "int64",
                  "type": "integer"
                },
                {
                  "name": "FP011",
                  "rawType": "int64",
                  "type": "integer"
                },
                {
                  "name": "FP012",
                  "rawType": "int64",
                  "type": "integer"
                },
                {
                  "name": "FP013",
                  "rawType": "int64",
                  "type": "integer"
                },
                {
                  "name": "FP014",
                  "rawType": "int64",
                  "type": "integer"
                },
                {
                  "name": "FP015",
                  "rawType": "int64",
                  "type": "integer"
                },
                {
                  "name": "FP016",
                  "rawType": "int64",
                  "type": "integer"
                },
                {
                  "name": "FP017",
                  "rawType": "int64",
                  "type": "integer"
                },
                {
                  "name": "FP018",
                  "rawType": "int64",
                  "type": "integer"
                },
                {
                  "name": "FP019",
                  "rawType": "int64",
                  "type": "integer"
                },
                {
                  "name": "FP020",
                  "rawType": "int64",
                  "type": "integer"
                },
                {
                  "name": "FP021",
                  "rawType": "int64",
                  "type": "integer"
                },
                {
                  "name": "FP022",
                  "rawType": "int64",
                  "type": "integer"
                },
                {
                  "name": "FP023",
                  "rawType": "int64",
                  "type": "integer"
                },
                {
                  "name": "FP024",
                  "rawType": "int64",
                  "type": "integer"
                },
                {
                  "name": "FP025",
                  "rawType": "int64",
                  "type": "integer"
                },
                {
                  "name": "FP026",
                  "rawType": "int64",
                  "type": "integer"
                },
                {
                  "name": "FP027",
                  "rawType": "int64",
                  "type": "integer"
                },
                {
                  "name": "FP028",
                  "rawType": "int64",
                  "type": "integer"
                },
                {
                  "name": "FP029",
                  "rawType": "int64",
                  "type": "integer"
                },
                {
                  "name": "FP030",
                  "rawType": "int64",
                  "type": "integer"
                },
                {
                  "name": "FP031",
                  "rawType": "int64",
                  "type": "integer"
                },
                {
                  "name": "FP032",
                  "rawType": "int64",
                  "type": "integer"
                },
                {
                  "name": "FP033",
                  "rawType": "int64",
                  "type": "integer"
                },
                {
                  "name": "FP034",
                  "rawType": "int64",
                  "type": "integer"
                },
                {
                  "name": "FP035",
                  "rawType": "int64",
                  "type": "integer"
                },
                {
                  "name": "FP036",
                  "rawType": "int64",
                  "type": "integer"
                },
                {
                  "name": "FP037",
                  "rawType": "int64",
                  "type": "integer"
                },
                {
                  "name": "FP038",
                  "rawType": "int64",
                  "type": "integer"
                },
                {
                  "name": "FP039",
                  "rawType": "int64",
                  "type": "integer"
                },
                {
                  "name": "FP040",
                  "rawType": "int64",
                  "type": "integer"
                },
                {
                  "name": "FP041",
                  "rawType": "int64",
                  "type": "integer"
                },
                {
                  "name": "FP042",
                  "rawType": "int64",
                  "type": "integer"
                },
                {
                  "name": "FP043",
                  "rawType": "int64",
                  "type": "integer"
                },
                {
                  "name": "FP044",
                  "rawType": "int64",
                  "type": "integer"
                },
                {
                  "name": "FP045",
                  "rawType": "int64",
                  "type": "integer"
                },
                {
                  "name": "FP046",
                  "rawType": "int64",
                  "type": "integer"
                },
                {
                  "name": "FP047",
                  "rawType": "int64",
                  "type": "integer"
                },
                {
                  "name": "FP048",
                  "rawType": "int64",
                  "type": "integer"
                },
                {
                  "name": "FP049",
                  "rawType": "int64",
                  "type": "integer"
                },
                {
                  "name": "FP050",
                  "rawType": "int64",
                  "type": "integer"
                },
                {
                  "name": "FP051",
                  "rawType": "int64",
                  "type": "integer"
                },
                {
                  "name": "FP052",
                  "rawType": "int64",
                  "type": "integer"
                },
                {
                  "name": "FP053",
                  "rawType": "int64",
                  "type": "integer"
                },
                {
                  "name": "FP054",
                  "rawType": "int64",
                  "type": "integer"
                },
                {
                  "name": "FP055",
                  "rawType": "int64",
                  "type": "integer"
                },
                {
                  "name": "FP056",
                  "rawType": "int64",
                  "type": "integer"
                },
                {
                  "name": "FP057",
                  "rawType": "int64",
                  "type": "integer"
                },
                {
                  "name": "FP058",
                  "rawType": "int64",
                  "type": "integer"
                },
                {
                  "name": "FP059",
                  "rawType": "int64",
                  "type": "integer"
                },
                {
                  "name": "FP060",
                  "rawType": "int64",
                  "type": "integer"
                },
                {
                  "name": "FP061",
                  "rawType": "int64",
                  "type": "integer"
                },
                {
                  "name": "FP062",
                  "rawType": "int64",
                  "type": "integer"
                },
                {
                  "name": "FP063",
                  "rawType": "int64",
                  "type": "integer"
                },
                {
                  "name": "FP064",
                  "rawType": "int64",
                  "type": "integer"
                },
                {
                  "name": "FP065",
                  "rawType": "int64",
                  "type": "integer"
                },
                {
                  "name": "FP066",
                  "rawType": "int64",
                  "type": "integer"
                },
                {
                  "name": "FP067",
                  "rawType": "int64",
                  "type": "integer"
                },
                {
                  "name": "FP068",
                  "rawType": "int64",
                  "type": "integer"
                },
                {
                  "name": "FP069",
                  "rawType": "int64",
                  "type": "integer"
                },
                {
                  "name": "FP070",
                  "rawType": "int64",
                  "type": "integer"
                },
                {
                  "name": "FP071",
                  "rawType": "int64",
                  "type": "integer"
                },
                {
                  "name": "FP072",
                  "rawType": "int64",
                  "type": "integer"
                },
                {
                  "name": "FP073",
                  "rawType": "int64",
                  "type": "integer"
                },
                {
                  "name": "FP074",
                  "rawType": "int64",
                  "type": "integer"
                },
                {
                  "name": "FP075",
                  "rawType": "int64",
                  "type": "integer"
                },
                {
                  "name": "FP076",
                  "rawType": "int64",
                  "type": "integer"
                },
                {
                  "name": "FP077",
                  "rawType": "int64",
                  "type": "integer"
                },
                {
                  "name": "FP078",
                  "rawType": "int64",
                  "type": "integer"
                },
                {
                  "name": "FP079",
                  "rawType": "int64",
                  "type": "integer"
                },
                {
                  "name": "FP080",
                  "rawType": "int64",
                  "type": "integer"
                },
                {
                  "name": "FP081",
                  "rawType": "int64",
                  "type": "integer"
                },
                {
                  "name": "FP082",
                  "rawType": "int64",
                  "type": "integer"
                },
                {
                  "name": "FP083",
                  "rawType": "int64",
                  "type": "integer"
                },
                {
                  "name": "FP084",
                  "rawType": "int64",
                  "type": "integer"
                },
                {
                  "name": "FP085",
                  "rawType": "int64",
                  "type": "integer"
                },
                {
                  "name": "FP086",
                  "rawType": "int64",
                  "type": "integer"
                },
                {
                  "name": "FP087",
                  "rawType": "int64",
                  "type": "integer"
                },
                {
                  "name": "FP088",
                  "rawType": "int64",
                  "type": "integer"
                },
                {
                  "name": "FP089",
                  "rawType": "int64",
                  "type": "integer"
                },
                {
                  "name": "FP090",
                  "rawType": "int64",
                  "type": "integer"
                },
                {
                  "name": "FP091",
                  "rawType": "int64",
                  "type": "integer"
                },
                {
                  "name": "FP092",
                  "rawType": "int64",
                  "type": "integer"
                },
                {
                  "name": "FP093",
                  "rawType": "int64",
                  "type": "integer"
                },
                {
                  "name": "FP094",
                  "rawType": "int64",
                  "type": "integer"
                },
                {
                  "name": "FP095",
                  "rawType": "int64",
                  "type": "integer"
                },
                {
                  "name": "FP096",
                  "rawType": "int64",
                  "type": "integer"
                },
                {
                  "name": "FP097",
                  "rawType": "int64",
                  "type": "integer"
                },
                {
                  "name": "FP098",
                  "rawType": "int64",
                  "type": "integer"
                },
                {
                  "name": "FP099",
                  "rawType": "int64",
                  "type": "integer"
                },
                {
                  "name": "FP100",
                  "rawType": "int64",
                  "type": "integer"
                },
                {
                  "name": "FP101",
                  "rawType": "int64",
                  "type": "integer"
                },
                {
                  "name": "FP102",
                  "rawType": "int64",
                  "type": "integer"
                },
                {
                  "name": "FP103",
                  "rawType": "int64",
                  "type": "integer"
                },
                {
                  "name": "FP104",
                  "rawType": "int64",
                  "type": "integer"
                },
                {
                  "name": "FP105",
                  "rawType": "int64",
                  "type": "integer"
                },
                {
                  "name": "FP106",
                  "rawType": "int64",
                  "type": "integer"
                },
                {
                  "name": "FP107",
                  "rawType": "int64",
                  "type": "integer"
                },
                {
                  "name": "FP108",
                  "rawType": "int64",
                  "type": "integer"
                },
                {
                  "name": "FP109",
                  "rawType": "int64",
                  "type": "integer"
                },
                {
                  "name": "FP110",
                  "rawType": "int64",
                  "type": "integer"
                },
                {
                  "name": "FP111",
                  "rawType": "int64",
                  "type": "integer"
                },
                {
                  "name": "FP112",
                  "rawType": "int64",
                  "type": "integer"
                },
                {
                  "name": "FP113",
                  "rawType": "int64",
                  "type": "integer"
                },
                {
                  "name": "FP114",
                  "rawType": "int64",
                  "type": "integer"
                },
                {
                  "name": "FP115",
                  "rawType": "int64",
                  "type": "integer"
                },
                {
                  "name": "FP116",
                  "rawType": "int64",
                  "type": "integer"
                },
                {
                  "name": "FP117",
                  "rawType": "int64",
                  "type": "integer"
                },
                {
                  "name": "FP118",
                  "rawType": "int64",
                  "type": "integer"
                },
                {
                  "name": "FP119",
                  "rawType": "int64",
                  "type": "integer"
                },
                {
                  "name": "FP120",
                  "rawType": "int64",
                  "type": "integer"
                },
                {
                  "name": "FP121",
                  "rawType": "int64",
                  "type": "integer"
                },
                {
                  "name": "FP122",
                  "rawType": "int64",
                  "type": "integer"
                },
                {
                  "name": "FP123",
                  "rawType": "int64",
                  "type": "integer"
                },
                {
                  "name": "FP124",
                  "rawType": "int64",
                  "type": "integer"
                },
                {
                  "name": "FP125",
                  "rawType": "int64",
                  "type": "integer"
                },
                {
                  "name": "FP126",
                  "rawType": "int64",
                  "type": "integer"
                },
                {
                  "name": "FP127",
                  "rawType": "int64",
                  "type": "integer"
                },
                {
                  "name": "FP128",
                  "rawType": "int64",
                  "type": "integer"
                },
                {
                  "name": "FP129",
                  "rawType": "int64",
                  "type": "integer"
                },
                {
                  "name": "FP130",
                  "rawType": "int64",
                  "type": "integer"
                },
                {
                  "name": "FP131",
                  "rawType": "int64",
                  "type": "integer"
                },
                {
                  "name": "FP132",
                  "rawType": "int64",
                  "type": "integer"
                },
                {
                  "name": "FP133",
                  "rawType": "int64",
                  "type": "integer"
                },
                {
                  "name": "FP134",
                  "rawType": "int64",
                  "type": "integer"
                },
                {
                  "name": "FP135",
                  "rawType": "int64",
                  "type": "integer"
                },
                {
                  "name": "FP136",
                  "rawType": "int64",
                  "type": "integer"
                },
                {
                  "name": "FP137",
                  "rawType": "int64",
                  "type": "integer"
                },
                {
                  "name": "FP138",
                  "rawType": "int64",
                  "type": "integer"
                },
                {
                  "name": "FP139",
                  "rawType": "int64",
                  "type": "integer"
                },
                {
                  "name": "FP140",
                  "rawType": "int64",
                  "type": "integer"
                },
                {
                  "name": "FP141",
                  "rawType": "int64",
                  "type": "integer"
                },
                {
                  "name": "FP142",
                  "rawType": "int64",
                  "type": "integer"
                },
                {
                  "name": "FP143",
                  "rawType": "int64",
                  "type": "integer"
                },
                {
                  "name": "FP144",
                  "rawType": "int64",
                  "type": "integer"
                },
                {
                  "name": "FP145",
                  "rawType": "int64",
                  "type": "integer"
                },
                {
                  "name": "FP146",
                  "rawType": "int64",
                  "type": "integer"
                },
                {
                  "name": "FP147",
                  "rawType": "int64",
                  "type": "integer"
                },
                {
                  "name": "FP148",
                  "rawType": "int64",
                  "type": "integer"
                },
                {
                  "name": "FP149",
                  "rawType": "int64",
                  "type": "integer"
                },
                {
                  "name": "FP150",
                  "rawType": "int64",
                  "type": "integer"
                },
                {
                  "name": "FP151",
                  "rawType": "int64",
                  "type": "integer"
                },
                {
                  "name": "FP152",
                  "rawType": "int64",
                  "type": "integer"
                },
                {
                  "name": "FP153",
                  "rawType": "int64",
                  "type": "integer"
                },
                {
                  "name": "FP154",
                  "rawType": "int64",
                  "type": "integer"
                },
                {
                  "name": "FP155",
                  "rawType": "int64",
                  "type": "integer"
                },
                {
                  "name": "FP156",
                  "rawType": "int64",
                  "type": "integer"
                },
                {
                  "name": "FP157",
                  "rawType": "int64",
                  "type": "integer"
                },
                {
                  "name": "FP158",
                  "rawType": "int64",
                  "type": "integer"
                },
                {
                  "name": "FP159",
                  "rawType": "int64",
                  "type": "integer"
                },
                {
                  "name": "FP160",
                  "rawType": "int64",
                  "type": "integer"
                },
                {
                  "name": "FP161",
                  "rawType": "int64",
                  "type": "integer"
                },
                {
                  "name": "FP162",
                  "rawType": "int64",
                  "type": "integer"
                },
                {
                  "name": "FP163",
                  "rawType": "int64",
                  "type": "integer"
                },
                {
                  "name": "FP164",
                  "rawType": "int64",
                  "type": "integer"
                },
                {
                  "name": "FP165",
                  "rawType": "int64",
                  "type": "integer"
                },
                {
                  "name": "FP166",
                  "rawType": "int64",
                  "type": "integer"
                },
                {
                  "name": "FP167",
                  "rawType": "int64",
                  "type": "integer"
                },
                {
                  "name": "FP168",
                  "rawType": "int64",
                  "type": "integer"
                },
                {
                  "name": "FP169",
                  "rawType": "int64",
                  "type": "integer"
                },
                {
                  "name": "FP170",
                  "rawType": "int64",
                  "type": "integer"
                },
                {
                  "name": "FP171",
                  "rawType": "int64",
                  "type": "integer"
                },
                {
                  "name": "FP172",
                  "rawType": "int64",
                  "type": "integer"
                },
                {
                  "name": "FP173",
                  "rawType": "int64",
                  "type": "integer"
                },
                {
                  "name": "FP174",
                  "rawType": "int64",
                  "type": "integer"
                },
                {
                  "name": "FP175",
                  "rawType": "int64",
                  "type": "integer"
                },
                {
                  "name": "FP176",
                  "rawType": "int64",
                  "type": "integer"
                },
                {
                  "name": "FP177",
                  "rawType": "int64",
                  "type": "integer"
                },
                {
                  "name": "FP178",
                  "rawType": "int64",
                  "type": "integer"
                },
                {
                  "name": "FP179",
                  "rawType": "int64",
                  "type": "integer"
                },
                {
                  "name": "FP180",
                  "rawType": "int64",
                  "type": "integer"
                },
                {
                  "name": "FP181",
                  "rawType": "int64",
                  "type": "integer"
                },
                {
                  "name": "FP182",
                  "rawType": "int64",
                  "type": "integer"
                },
                {
                  "name": "FP183",
                  "rawType": "int64",
                  "type": "integer"
                },
                {
                  "name": "FP184",
                  "rawType": "int64",
                  "type": "integer"
                },
                {
                  "name": "FP185",
                  "rawType": "int64",
                  "type": "integer"
                },
                {
                  "name": "FP186",
                  "rawType": "int64",
                  "type": "integer"
                },
                {
                  "name": "FP187",
                  "rawType": "int64",
                  "type": "integer"
                },
                {
                  "name": "FP188",
                  "rawType": "int64",
                  "type": "integer"
                },
                {
                  "name": "FP189",
                  "rawType": "int64",
                  "type": "integer"
                },
                {
                  "name": "FP190",
                  "rawType": "int64",
                  "type": "integer"
                },
                {
                  "name": "FP191",
                  "rawType": "int64",
                  "type": "integer"
                },
                {
                  "name": "FP192",
                  "rawType": "int64",
                  "type": "integer"
                },
                {
                  "name": "FP193",
                  "rawType": "int64",
                  "type": "integer"
                },
                {
                  "name": "FP194",
                  "rawType": "int64",
                  "type": "integer"
                },
                {
                  "name": "FP195",
                  "rawType": "int64",
                  "type": "integer"
                },
                {
                  "name": "FP196",
                  "rawType": "int64",
                  "type": "integer"
                },
                {
                  "name": "FP197",
                  "rawType": "int64",
                  "type": "integer"
                },
                {
                  "name": "FP198",
                  "rawType": "int64",
                  "type": "integer"
                },
                {
                  "name": "FP199",
                  "rawType": "int64",
                  "type": "integer"
                },
                {
                  "name": "FP200",
                  "rawType": "int64",
                  "type": "integer"
                },
                {
                  "name": "FP201",
                  "rawType": "int64",
                  "type": "integer"
                },
                {
                  "name": "FP202",
                  "rawType": "int64",
                  "type": "integer"
                },
                {
                  "name": "FP203",
                  "rawType": "int64",
                  "type": "integer"
                },
                {
                  "name": "FP204",
                  "rawType": "int64",
                  "type": "integer"
                },
                {
                  "name": "FP205",
                  "rawType": "int64",
                  "type": "integer"
                },
                {
                  "name": "FP206",
                  "rawType": "int64",
                  "type": "integer"
                },
                {
                  "name": "FP207",
                  "rawType": "int64",
                  "type": "integer"
                },
                {
                  "name": "FP208",
                  "rawType": "int64",
                  "type": "integer"
                },
                {
                  "name": "MolWeight",
                  "rawType": "float64",
                  "type": "float"
                },
                {
                  "name": "NumAtoms",
                  "rawType": "int64",
                  "type": "integer"
                },
                {
                  "name": "NumNonHAtoms",
                  "rawType": "int64",
                  "type": "integer"
                },
                {
                  "name": "NumBonds",
                  "rawType": "int64",
                  "type": "integer"
                },
                {
                  "name": "NumNonHBonds",
                  "rawType": "int64",
                  "type": "integer"
                },
                {
                  "name": "NumMultBonds",
                  "rawType": "int64",
                  "type": "integer"
                },
                {
                  "name": "NumRotBonds",
                  "rawType": "int64",
                  "type": "integer"
                },
                {
                  "name": "NumDblBonds",
                  "rawType": "int64",
                  "type": "integer"
                },
                {
                  "name": "NumAromaticBonds",
                  "rawType": "int64",
                  "type": "integer"
                },
                {
                  "name": "NumHydrogen",
                  "rawType": "int64",
                  "type": "integer"
                },
                {
                  "name": "NumCarbon",
                  "rawType": "int64",
                  "type": "integer"
                },
                {
                  "name": "NumNitrogen",
                  "rawType": "int64",
                  "type": "integer"
                },
                {
                  "name": "NumOxygen",
                  "rawType": "int64",
                  "type": "integer"
                },
                {
                  "name": "NumSulfer",
                  "rawType": "int64",
                  "type": "integer"
                },
                {
                  "name": "NumChlorine",
                  "rawType": "int64",
                  "type": "integer"
                },
                {
                  "name": "NumHalogen",
                  "rawType": "int64",
                  "type": "integer"
                },
                {
                  "name": "NumRings",
                  "rawType": "int64",
                  "type": "integer"
                },
                {
                  "name": "HydrophilicFactor",
                  "rawType": "float64",
                  "type": "float"
                },
                {
                  "name": "SurfaceArea1",
                  "rawType": "float64",
                  "type": "float"
                },
                {
                  "name": "SurfaceArea2",
                  "rawType": "float64",
                  "type": "float"
                }
              ],
              "ref": "da434f47-783a-4a93-b903-2783c5413954",
              "rows": [
                [
                  "20",
                  "1",
                  "0",
                  "0",
                  "1",
                  "0",
                  "0",
                  "0",
                  "0",
                  "1",
                  "1",
                  "0",
                  "0",
                  "0",
                  "0",
                  "1",
                  "0",
                  "0",
                  "0",
                  "0",
                  "0",
                  "1",
                  "0",
                  "0",
                  "0",
                  "1",
                  "0",
                  "0",
                  "0",
                  "0",
                  "0",
                  "0",
                  "0",
                  "0",
                  "0",
                  "0",
                  "0",
                  "0",
                  "1",
                  "0",
                  "0",
                  "0",
                  "0",
                  "0",
                  "0",
                  "0",
                  "0",
                  "0",
                  "0",
                  "0",
                  "0",
                  "0",
                  "0",
                  "0",
                  "0",
                  "0",
                  "0",
                  "0",
                  "0",
                  "0",
                  "1",
                  "1",
                  "1",
                  "0",
                  "1",
                  "0",
                  "0",
                  "0",
                  "0",
                  "0",
                  "0",
                  "0",
                  "1",
                  "1",
                  "0",
                  "0",
                  "0",
                  "0",
                  "0",
                  "0",
                  "1",
                  "0",
                  "0",
                  "0",
                  "0",
                  "0",
                  "0",
                  "0",
                  "1",
                  "0",
                  "0",
                  "0",
                  "0",
                  "0",
                  "0",
                  "0",
                  "0",
                  "0",
                  "1",
                  "0",
                  "0",
                  "0",
                  "0",
                  "0",
                  "0",
                  "0",
                  "0",
                  "1",
                  "0",
                  "0",
                  "0",
                  "0",
                  "0",
                  "0",
                  "0",
                  "0",
                  "0",
                  "0",
                  "1",
                  "0",
                  "0",
                  "0",
                  "0",
                  "0",
                  "0",
                  "0",
                  "0",
                  "0",
                  "0",
                  "0",
                  "0",
                  "0",
                  "0",
                  "0",
                  "0",
                  "0",
                  "0",
                  "0",
                  "0",
                  "0",
                  "0",
                  "0",
                  "0",
                  "0",
                  "0",
                  "0",
                  "0",
                  "0",
                  "0",
                  "0",
                  "0",
                  "0",
                  "0",
                  "0",
                  "0",
                  "0",
                  "0",
                  "0",
                  "0",
                  "0",
                  "0",
                  "0",
                  "0",
                  "1",
                  "0",
                  "1",
                  "0",
                  "1",
                  "0",
                  "0",
                  "0",
                  "0",
                  "0",
                  "0",
                  "0",
                  "0",
                  "0",
                  "0",
                  "0",
                  "0",
                  "1",
                  "0",
                  "0",
                  "0",
                  "0",
                  "0",
                  "0",
                  "0",
                  "0",
                  "0",
                  "0",
                  "0",
                  "0",
                  "0",
                  "0",
                  "0",
                  "0",
                  "0",
                  "0",
                  "0",
                  "0",
                  "0",
                  "0",
                  "0",
                  "0",
                  "0",
                  "0",
                  "0",
                  "0",
                  "94.5",
                  "8",
                  "5",
                  "7",
                  "4",
                  "1",
                  "0",
                  "1",
                  "0",
                  "3",
                  "2",
                  "0",
                  "2",
                  "0",
                  "1",
                  "1",
                  "0",
                  "0.492",
                  "37.3",
                  "37.3"
                ],
                [
                  "21",
                  "1",
                  "0",
                  "1",
                  "1",
                  "0",
                  "1",
                  "0",
                  "0",
                  "0",
                  "0",
                  "1",
                  "1",
                  "0",
                  "0",
                  "1",
                  "1",
                  "0",
                  "0",
                  "0",
                  "0",
                  "0",
                  "0",
                  "0",
                  "0",
                  "0",
                  "0",
                  "0",
                  "0",
                  "0",
                  "0",
                  "0",
                  "0",
                  "0",
                  "0",
                  "0",
                  "0",
                  "0",
                  "0",
                  "0",
                  "0",
                  "0",
                  "0",
                  "0",
                  "0",
                  "0",
                  "0",
                  "0",
                  "0",
                  "0",
                  "0",
                  "0",
                  "0",
                  "0",
                  "0",
                  "0",
                  "0",
                  "0",
                  "0",
                  "0",
                  "1",
                  "1",
                  "1",
                  "1",
                  "1",
                  "0",
                  "1",
                  "1",
                  "1",
                  "0",
                  "0",
                  "0",
                  "1",
                  "0",
                  "0",
                  "1",
                  "0",
                  "0",
                  "0",
                  "0",
                  "1",
                  "0",
                  "0",
                  "1",
                  "0",
                  "0",
                  "0",
                  "0",
                  "0",
                  "0",
                  "0",
                  "0",
                  "0",
                  "0",
                  "1",
                  "0",
                  "0",
                  "0",
                  "1",
                  "0",
                  "1",
                  "0",
                  "0",
                  "0",
                  "0",
                  "0",
                  "0",
                  "0",
                  "1",
                  "0",
                  "1",
                  "1",
                  "0",
                  "1",
                  "0",
                  "0",
                  "0",
                  "0",
                  "0",
                  "0",
                  "1",
                  "0",
                  "0",
                  "0",
                  "0",
                  "0",
                  "0",
                  "0",
                  "0",
                  "0",
                  "0",
                  "0",
                  "1",
                  "0",
                  "0",
                  "0",
                  "0",
                  "0",
                  "0",
                  "0",
                  "0",
                  "0",
                  "0",
                  "0",
                  "0",
                  "0",
                  "0",
                  "0",
                  "0",
                  "0",
                  "0",
                  "0",
                  "0",
                  "0",
                  "0",
                  "0",
                  "0",
                  "0",
                  "0",
                  "0",
                  "0",
                  "0",
                  "0",
                  "1",
                  "0",
                  "1",
                  "0",
                  "1",
                  "0",
                  "0",
                  "0",
                  "0",
                  "0",
                  "0",
                  "0",
                  "0",
                  "0",
                  "0",
                  "0",
                  "0",
                  "0",
                  "0",
                  "0",
                  "0",
                  "0",
                  "0",
                  "0",
                  "0",
                  "0",
                  "0",
                  "0",
                  "0",
                  "0",
                  "0",
                  "0",
                  "0",
                  "0",
                  "0",
                  "0",
                  "1",
                  "0",
                  "0",
                  "0",
                  "0",
                  "0",
                  "0",
                  "0",
                  "0",
                  "0",
                  "89.11",
                  "13",
                  "6",
                  "12",
                  "5",
                  "1",
                  "2",
                  "1",
                  "0",
                  "7",
                  "3",
                  "1",
                  "2",
                  "0",
                  "0",
                  "0",
                  "0",
                  "1.317",
                  "52.32",
                  "52.32"
                ],
                [
                  "23",
                  "0",
                  "1",
                  "0",
                  "0",
                  "1",
                  "0",
                  "0",
                  "0",
                  "0",
                  "1",
                  "0",
                  "0",
                  "0",
                  "0",
                  "0",
                  "0",
                  "0",
                  "0",
                  "0",
                  "0",
                  "0",
                  "0",
                  "0",
                  "0",
                  "0",
                  "0",
                  "0",
                  "0",
                  "0",
                  "0",
                  "0",
                  "1",
                  "1",
                  "0",
                  "0",
                  "0",
                  "0",
                  "0",
                  "0",
                  "0",
                  "0",
                  "0",
                  "0",
                  "0",
                  "0",
                  "1",
                  "0",
                  "0",
                  "0",
                  "0",
                  "0",
                  "0",
                  "0",
                  "0",
                  "1",
                  "0",
                  "0",
                  "0",
                  "0",
                  "1",
                  "1",
                  "0",
                  "0",
                  "0",
                  "1",
                  "0",
                  "0",
                  "0",
                  "0",
                  "0",
                  "0",
                  "1",
                  "1",
                  "1",
                  "0",
                  "0",
                  "0",
                  "1",
                  "1",
                  "0",
                  "0",
                  "1",
                  "0",
                  "0",
                  "0",
                  "0",
                  "1",
                  "0",
                  "0",
                  "0",
                  "0",
                  "0",
                  "0",
                  "0",
                  "1",
                  "0",
                  "0",
                  "0",
                  "0",
                  "0",
                  "0",
                  "0",
                  "0",
                  "0",
                  "0",
                  "0",
                  "0",
                  "0",
                  "0",
                  "0",
                  "0",
                  "0",
                  "0",
                  "0",
                  "0",
                  "0",
                  "0",
                  "0",
                  "1",
                  "0",
                  "0",
                  "0",
                  "0",
                  "0",
                  "1",
                  "0",
                  "0",
                  "0",
                  "0",
                  "0",
                  "0",
                  "0",
                  "0",
                  "0",
                  "0",
                  "0",
                  "0",
                  "0",
                  "0",
                  "0",
                  "0",
                  "0",
                  "0",
                  "0",
                  "0",
                  "0",
                  "0",
                  "1",
                  "0",
                  "0",
                  "0",
                  "0",
                  "0",
                  "0",
                  "0",
                  "0",
                  "0",
                  "0",
                  "0",
                  "0",
                  "0",
                  "1",
                  "0",
                  "1",
                  "0",
                  "1",
                  "0",
                  "1",
                  "1",
                  "0",
                  "0",
                  "0",
                  "0",
                  "0",
                  "0",
                  "0",
                  "0",
                  "0",
                  "0",
                  "0",
                  "0",
                  "0",
                  "1",
                  "0",
                  "0",
                  "0",
                  "0",
                  "0",
                  "0",
                  "0",
                  "0",
                  "0",
                  "0",
                  "0",
                  "0",
                  "0",
                  "0",
                  "0",
                  "0",
                  "0",
                  "0",
                  "0",
                  "0",
                  "0",
                  "1",
                  "0",
                  "0",
                  "0",
                  "110.12",
                  "14",
                  "8",
                  "14",
                  "8",
                  "6",
                  "0",
                  "0",
                  "6",
                  "6",
                  "6",
                  "0",
                  "2",
                  "0",
                  "0",
                  "0",
                  "1",
                  "0.846",
                  "40.46",
                  "40.46"
                ],
                [
                  "25",
                  "0",
                  "0",
                  "1",
                  "0",
                  "0",
                  "1",
                  "0",
                  "0",
                  "0",
                  "0",
                  "0",
                  "0",
                  "0",
                  "0",
                  "1",
                  "0",
                  "0",
                  "0",
                  "0",
                  "0",
                  "0",
                  "0",
                  "0",
                  "0",
                  "0",
                  "0",
                  "1",
                  "1",
                  "0",
                  "1",
                  "0",
                  "0",
                  "0",
                  "0",
                  "0",
                  "0",
                  "0",
                  "0",
                  "0",
                  "0",
                  "0",
                  "0",
                  "0",
                  "0",
                  "0",
                  "0",
                  "0",
                  "0",
                  "0",
                  "0",
                  "0",
                  "0",
                  "0",
                  "0",
                  "0",
                  "0",
                  "0",
                  "0",
                  "0",
                  "0",
                  "0",
                  "0",
                  "1",
                  "0",
                  "0",
                  "1",
                  "1",
                  "1",
                  "0",
                  "0",
                  "0",
                  "0",
                  "0",
                  "0",
                  "1",
                  "0",
                  "1",
                  "0",
                  "1",
                  "1",
                  "1",
                  "0",
                  "1",
                  "1",
                  "0",
                  "1",
                  "1",
                  "0",
                  "0",
                  "1",
                  "1",
                  "0",
                  "1",
                  "0",
                  "1",
                  "0",
                  "0",
                  "0",
                  "0",
                  "0",
                  "1",
                  "0",
                  "1",
                  "1",
                  "0",
                  "0",
                  "0",
                  "0",
                  "0",
                  "0",
                  "0",
                  "0",
                  "0",
                  "0",
                  "0",
                  "1",
                  "0",
                  "1",
                  "0",
                  "0",
                  "0",
                  "1",
                  "0",
                  "0",
                  "0",
                  "0",
                  "0",
                  "0",
                  "0",
                  "0",
                  "0",
                  "0",
                  "0",
                  "0",
                  "1",
                  "0",
                  "0",
                  "1",
                  "0",
                  "0",
                  "0",
                  "1",
                  "0",
                  "1",
                  "0",
                  "0",
                  "0",
                  "0",
                  "0",
                  "1",
                  "0",
                  "0",
                  "0",
                  "0",
                  "0",
                  "0",
                  "0",
                  "0",
                  "0",
                  "0",
                  "1",
                  "0",
                  "0",
                  "0",
                  "0",
                  "0",
                  "0",
                  "0",
                  "0",
                  "1",
                  "0",
                  "0",
                  "1",
                  "0",
                  "0",
                  "0",
                  "0",
                  "0",
                  "0",
                  "0",
                  "0",
                  "0",
                  "0",
                  "0",
                  "0",
                  "0",
                  "0",
                  "0",
                  "0",
                  "0",
                  "0",
                  "0",
                  "0",
                  "0",
                  "1",
                  "0",
                  "0",
                  "0",
                  "0",
                  "0",
                  "0",
                  "0",
                  "0",
                  "0",
                  "0",
                  "0",
                  "0",
                  "0",
                  "100.19",
                  "19",
                  "7",
                  "19",
                  "7",
                  "0",
                  "0",
                  "0",
                  "0",
                  "12",
                  "5",
                  "2",
                  "0",
                  "0",
                  "0",
                  "0",
                  "1",
                  "0.984",
                  "24.06",
                  "24.06"
                ],
                [
                  "28",
                  "1",
                  "1",
                  "0",
                  "1",
                  "1",
                  "1",
                  "0",
                  "1",
                  "0",
                  "0",
                  "1",
                  "0",
                  "0",
                  "0",
                  "1",
                  "0",
                  "0",
                  "0",
                  "1",
                  "0",
                  "0",
                  "0",
                  "0",
                  "1",
                  "0",
                  "0",
                  "0",
                  "0",
                  "0",
                  "0",
                  "0",
                  "0",
                  "0",
                  "0",
                  "0",
                  "0",
                  "0",
                  "0",
                  "0",
                  "1",
                  "0",
                  "0",
                  "0",
                  "0",
                  "0",
                  "0",
                  "1",
                  "0",
                  "0",
                  "0",
                  "0",
                  "0",
                  "0",
                  "0",
                  "0",
                  "0",
                  "0",
                  "0",
                  "0",
                  "0",
                  "0",
                  "1",
                  "1",
                  "0",
                  "0",
                  "0",
                  "1",
                  "1",
                  "0",
                  "0",
                  "0",
                  "1",
                  "0",
                  "0",
                  "0",
                  "0",
                  "0",
                  "0",
                  "1",
                  "0",
                  "0",
                  "1",
                  "1",
                  "1",
                  "0",
                  "0",
                  "1",
                  "0",
                  "0",
                  "0",
                  "1",
                  "0",
                  "0",
                  "0",
                  "0",
                  "0",
                  "0",
                  "0",
                  "0",
                  "1",
                  "1",
                  "0",
                  "0",
                  "0",
                  "0",
                  "0",
                  "0",
                  "0",
                  "0",
                  "1",
                  "0",
                  "0",
                  "0",
                  "0",
                  "0",
                  "1",
                  "0",
                  "0",
                  "0",
                  "0",
                  "0",
                  "0",
                  "0",
                  "0",
                  "0",
                  "1",
                  "0",
                  "1",
                  "0",
                  "0",
                  "1",
                  "1",
                  "0",
                  "0",
                  "0",
                  "1",
                  "0",
                  "0",
                  "0",
                  "0",
                  "0",
                  "0",
                  "0",
                  "0",
                  "0",
                  "0",
                  "0",
                  "0",
                  "0",
                  "0",
                  "0",
                  "0",
                  "0",
                  "0",
                  "0",
                  "0",
                  "0",
                  "0",
                  "0",
                  "0",
                  "0",
                  "1",
                  "1",
                  "1",
                  "1",
                  "1",
                  "1",
                  "1",
                  "0",
                  "0",
                  "0",
                  "0",
                  "0",
                  "0",
                  "0",
                  "1",
                  "0",
                  "0",
                  "0",
                  "0",
                  "0",
                  "0",
                  "0",
                  "0",
                  "0",
                  "0",
                  "0",
                  "0",
                  "0",
                  "0",
                  "0",
                  "0",
                  "0",
                  "0",
                  "0",
                  "0",
                  "0",
                  "0",
                  "0",
                  "0",
                  "0",
                  "0",
                  "0",
                  "0",
                  "0",
                  "0",
                  "0",
                  "0",
                  "122.14",
                  "15",
                  "9",
                  "15",
                  "9",
                  "7",
                  "1",
                  "1",
                  "6",
                  "6",
                  "6",
                  "2",
                  "1",
                  "0",
                  "0",
                  "0",
                  "1",
                  "0.843",
                  "55.98",
                  "55.98"
                ]
              ],
              "shape": {
                "columns": 228,
                "rows": 5
              }
            },
            "text/html": [
              "<div>\n",
              "<style scoped>\n",
              "    .dataframe tbody tr th:only-of-type {\n",
              "        vertical-align: middle;\n",
              "    }\n",
              "\n",
              "    .dataframe tbody tr th {\n",
              "        vertical-align: top;\n",
              "    }\n",
              "\n",
              "    .dataframe thead th {\n",
              "        text-align: right;\n",
              "    }\n",
              "</style>\n",
              "<table border=\"1\" class=\"dataframe\">\n",
              "  <thead>\n",
              "    <tr style=\"text-align: right;\">\n",
              "      <th></th>\n",
              "      <th>FP001</th>\n",
              "      <th>FP002</th>\n",
              "      <th>FP003</th>\n",
              "      <th>FP004</th>\n",
              "      <th>FP005</th>\n",
              "      <th>FP006</th>\n",
              "      <th>FP007</th>\n",
              "      <th>FP008</th>\n",
              "      <th>FP009</th>\n",
              "      <th>FP010</th>\n",
              "      <th>...</th>\n",
              "      <th>NumCarbon</th>\n",
              "      <th>NumNitrogen</th>\n",
              "      <th>NumOxygen</th>\n",
              "      <th>NumSulfer</th>\n",
              "      <th>NumChlorine</th>\n",
              "      <th>NumHalogen</th>\n",
              "      <th>NumRings</th>\n",
              "      <th>HydrophilicFactor</th>\n",
              "      <th>SurfaceArea1</th>\n",
              "      <th>SurfaceArea2</th>\n",
              "    </tr>\n",
              "  </thead>\n",
              "  <tbody>\n",
              "    <tr>\n",
              "      <th>20</th>\n",
              "      <td>1</td>\n",
              "      <td>0</td>\n",
              "      <td>0</td>\n",
              "      <td>1</td>\n",
              "      <td>0</td>\n",
              "      <td>0</td>\n",
              "      <td>0</td>\n",
              "      <td>0</td>\n",
              "      <td>1</td>\n",
              "      <td>1</td>\n",
              "      <td>...</td>\n",
              "      <td>2</td>\n",
              "      <td>0</td>\n",
              "      <td>2</td>\n",
              "      <td>0</td>\n",
              "      <td>1</td>\n",
              "      <td>1</td>\n",
              "      <td>0</td>\n",
              "      <td>0.492</td>\n",
              "      <td>37.30</td>\n",
              "      <td>37.30</td>\n",
              "    </tr>\n",
              "    <tr>\n",
              "      <th>21</th>\n",
              "      <td>1</td>\n",
              "      <td>0</td>\n",
              "      <td>1</td>\n",
              "      <td>1</td>\n",
              "      <td>0</td>\n",
              "      <td>1</td>\n",
              "      <td>0</td>\n",
              "      <td>0</td>\n",
              "      <td>0</td>\n",
              "      <td>0</td>\n",
              "      <td>...</td>\n",
              "      <td>3</td>\n",
              "      <td>1</td>\n",
              "      <td>2</td>\n",
              "      <td>0</td>\n",
              "      <td>0</td>\n",
              "      <td>0</td>\n",
              "      <td>0</td>\n",
              "      <td>1.317</td>\n",
              "      <td>52.32</td>\n",
              "      <td>52.32</td>\n",
              "    </tr>\n",
              "    <tr>\n",
              "      <th>23</th>\n",
              "      <td>0</td>\n",
              "      <td>1</td>\n",
              "      <td>0</td>\n",
              "      <td>0</td>\n",
              "      <td>1</td>\n",
              "      <td>0</td>\n",
              "      <td>0</td>\n",
              "      <td>0</td>\n",
              "      <td>0</td>\n",
              "      <td>1</td>\n",
              "      <td>...</td>\n",
              "      <td>6</td>\n",
              "      <td>0</td>\n",
              "      <td>2</td>\n",
              "      <td>0</td>\n",
              "      <td>0</td>\n",
              "      <td>0</td>\n",
              "      <td>1</td>\n",
              "      <td>0.846</td>\n",
              "      <td>40.46</td>\n",
              "      <td>40.46</td>\n",
              "    </tr>\n",
              "    <tr>\n",
              "      <th>25</th>\n",
              "      <td>0</td>\n",
              "      <td>0</td>\n",
              "      <td>1</td>\n",
              "      <td>0</td>\n",
              "      <td>0</td>\n",
              "      <td>1</td>\n",
              "      <td>0</td>\n",
              "      <td>0</td>\n",
              "      <td>0</td>\n",
              "      <td>0</td>\n",
              "      <td>...</td>\n",
              "      <td>5</td>\n",
              "      <td>2</td>\n",
              "      <td>0</td>\n",
              "      <td>0</td>\n",
              "      <td>0</td>\n",
              "      <td>0</td>\n",
              "      <td>1</td>\n",
              "      <td>0.984</td>\n",
              "      <td>24.06</td>\n",
              "      <td>24.06</td>\n",
              "    </tr>\n",
              "    <tr>\n",
              "      <th>28</th>\n",
              "      <td>1</td>\n",
              "      <td>1</td>\n",
              "      <td>0</td>\n",
              "      <td>1</td>\n",
              "      <td>1</td>\n",
              "      <td>1</td>\n",
              "      <td>0</td>\n",
              "      <td>1</td>\n",
              "      <td>0</td>\n",
              "      <td>0</td>\n",
              "      <td>...</td>\n",
              "      <td>6</td>\n",
              "      <td>2</td>\n",
              "      <td>1</td>\n",
              "      <td>0</td>\n",
              "      <td>0</td>\n",
              "      <td>0</td>\n",
              "      <td>1</td>\n",
              "      <td>0.843</td>\n",
              "      <td>55.98</td>\n",
              "      <td>55.98</td>\n",
              "    </tr>\n",
              "  </tbody>\n",
              "</table>\n",
              "<p>5 rows × 228 columns</p>\n",
              "</div>"
            ],
            "text/plain": [
              "    FP001  FP002  FP003  FP004  FP005  FP006  FP007  FP008  FP009  FP010  ...  \\\n",
              "20      1      0      0      1      0      0      0      0      1      1  ...   \n",
              "21      1      0      1      1      0      1      0      0      0      0  ...   \n",
              "23      0      1      0      0      1      0      0      0      0      1  ...   \n",
              "25      0      0      1      0      0      1      0      0      0      0  ...   \n",
              "28      1      1      0      1      1      1      0      1      0      0  ...   \n",
              "\n",
              "    NumCarbon  NumNitrogen  NumOxygen  NumSulfer  NumChlorine  NumHalogen  \\\n",
              "20          2            0          2          0            1           1   \n",
              "21          3            1          2          0            0           0   \n",
              "23          6            0          2          0            0           0   \n",
              "25          5            2          0          0            0           0   \n",
              "28          6            2          1          0            0           0   \n",
              "\n",
              "    NumRings  HydrophilicFactor  SurfaceArea1  SurfaceArea2  \n",
              "20         0              0.492         37.30         37.30  \n",
              "21         0              1.317         52.32         52.32  \n",
              "23         1              0.846         40.46         40.46  \n",
              "25         1              0.984         24.06         24.06  \n",
              "28         1              0.843         55.98         55.98  \n",
              "\n",
              "[5 rows x 228 columns]"
            ]
          },
          "execution_count": 5,
          "metadata": {},
          "output_type": "execute_result"
        }
      ],
      "source": [
        "test_data.head()"
      ]
    },
    {
      "cell_type": "code",
      "execution_count": 6,
      "metadata": {
        "colab": {
          "base_uri": "https://localhost:8080/",
          "height": 206
        },
        "id": "Mo_PaunNgRg3",
        "outputId": "61c38c63-9562-4661-d4ad-defdcc57f8d7"
      },
      "outputs": [
        {
          "data": {
            "application/vnd.microsoft.datawrangler.viewer.v0+json": {
              "columns": [
                {
                  "name": "index",
                  "rawType": "int64",
                  "type": "integer"
                },
                {
                  "name": "x",
                  "rawType": "float64",
                  "type": "float"
                }
              ],
              "ref": "5e115e82-13fe-4ca3-ae03-77b18b25b243",
              "rows": [
                [
                  "1",
                  "0.93"
                ],
                [
                  "2",
                  "0.85"
                ],
                [
                  "3",
                  "0.81"
                ],
                [
                  "4",
                  "0.74"
                ],
                [
                  "5",
                  "0.61"
                ]
              ],
              "shape": {
                "columns": 1,
                "rows": 5
              }
            },
            "text/html": [
              "<div>\n",
              "<style scoped>\n",
              "    .dataframe tbody tr th:only-of-type {\n",
              "        vertical-align: middle;\n",
              "    }\n",
              "\n",
              "    .dataframe tbody tr th {\n",
              "        vertical-align: top;\n",
              "    }\n",
              "\n",
              "    .dataframe thead th {\n",
              "        text-align: right;\n",
              "    }\n",
              "</style>\n",
              "<table border=\"1\" class=\"dataframe\">\n",
              "  <thead>\n",
              "    <tr style=\"text-align: right;\">\n",
              "      <th></th>\n",
              "      <th>x</th>\n",
              "    </tr>\n",
              "  </thead>\n",
              "  <tbody>\n",
              "    <tr>\n",
              "      <th>1</th>\n",
              "      <td>0.93</td>\n",
              "    </tr>\n",
              "    <tr>\n",
              "      <th>2</th>\n",
              "      <td>0.85</td>\n",
              "    </tr>\n",
              "    <tr>\n",
              "      <th>3</th>\n",
              "      <td>0.81</td>\n",
              "    </tr>\n",
              "    <tr>\n",
              "      <th>4</th>\n",
              "      <td>0.74</td>\n",
              "    </tr>\n",
              "    <tr>\n",
              "      <th>5</th>\n",
              "      <td>0.61</td>\n",
              "    </tr>\n",
              "  </tbody>\n",
              "</table>\n",
              "</div>"
            ],
            "text/plain": [
              "      x\n",
              "1  0.93\n",
              "2  0.85\n",
              "3  0.81\n",
              "4  0.74\n",
              "5  0.61"
            ]
          },
          "execution_count": 6,
          "metadata": {},
          "output_type": "execute_result"
        }
      ],
      "source": [
        "test_label.head()"
      ]
    },
    {
      "cell_type": "code",
      "execution_count": 7,
      "metadata": {
        "colab": {
          "base_uri": "https://localhost:8080/",
          "height": 74
        },
        "id": "iQqk5w_LgRg3",
        "outputId": "e5a56e5c-84a1-46fe-ee87-75203f0b0a65"
      },
      "outputs": [
        {
          "data": {
            "text/html": [
              "<style>#sk-container-id-1 {\n",
              "  /* Definition of color scheme common for light and dark mode */\n",
              "  --sklearn-color-text: #000;\n",
              "  --sklearn-color-text-muted: #666;\n",
              "  --sklearn-color-line: gray;\n",
              "  /* Definition of color scheme for unfitted estimators */\n",
              "  --sklearn-color-unfitted-level-0: #fff5e6;\n",
              "  --sklearn-color-unfitted-level-1: #f6e4d2;\n",
              "  --sklearn-color-unfitted-level-2: #ffe0b3;\n",
              "  --sklearn-color-unfitted-level-3: chocolate;\n",
              "  /* Definition of color scheme for fitted estimators */\n",
              "  --sklearn-color-fitted-level-0: #f0f8ff;\n",
              "  --sklearn-color-fitted-level-1: #d4ebff;\n",
              "  --sklearn-color-fitted-level-2: #b3dbfd;\n",
              "  --sklearn-color-fitted-level-3: cornflowerblue;\n",
              "\n",
              "  /* Specific color for light theme */\n",
              "  --sklearn-color-text-on-default-background: var(--sg-text-color, var(--theme-code-foreground, var(--jp-content-font-color1, black)));\n",
              "  --sklearn-color-background: var(--sg-background-color, var(--theme-background, var(--jp-layout-color0, white)));\n",
              "  --sklearn-color-border-box: var(--sg-text-color, var(--theme-code-foreground, var(--jp-content-font-color1, black)));\n",
              "  --sklearn-color-icon: #696969;\n",
              "\n",
              "  @media (prefers-color-scheme: dark) {\n",
              "    /* Redefinition of color scheme for dark theme */\n",
              "    --sklearn-color-text-on-default-background: var(--sg-text-color, var(--theme-code-foreground, var(--jp-content-font-color1, white)));\n",
              "    --sklearn-color-background: var(--sg-background-color, var(--theme-background, var(--jp-layout-color0, #111)));\n",
              "    --sklearn-color-border-box: var(--sg-text-color, var(--theme-code-foreground, var(--jp-content-font-color1, white)));\n",
              "    --sklearn-color-icon: #878787;\n",
              "  }\n",
              "}\n",
              "\n",
              "#sk-container-id-1 {\n",
              "  color: var(--sklearn-color-text);\n",
              "}\n",
              "\n",
              "#sk-container-id-1 pre {\n",
              "  padding: 0;\n",
              "}\n",
              "\n",
              "#sk-container-id-1 input.sk-hidden--visually {\n",
              "  border: 0;\n",
              "  clip: rect(1px 1px 1px 1px);\n",
              "  clip: rect(1px, 1px, 1px, 1px);\n",
              "  height: 1px;\n",
              "  margin: -1px;\n",
              "  overflow: hidden;\n",
              "  padding: 0;\n",
              "  position: absolute;\n",
              "  width: 1px;\n",
              "}\n",
              "\n",
              "#sk-container-id-1 div.sk-dashed-wrapped {\n",
              "  border: 1px dashed var(--sklearn-color-line);\n",
              "  margin: 0 0.4em 0.5em 0.4em;\n",
              "  box-sizing: border-box;\n",
              "  padding-bottom: 0.4em;\n",
              "  background-color: var(--sklearn-color-background);\n",
              "}\n",
              "\n",
              "#sk-container-id-1 div.sk-container {\n",
              "  /* jupyter's `normalize.less` sets `[hidden] { display: none; }`\n",
              "     but bootstrap.min.css set `[hidden] { display: none !important; }`\n",
              "     so we also need the `!important` here to be able to override the\n",
              "     default hidden behavior on the sphinx rendered scikit-learn.org.\n",
              "     See: https://github.com/scikit-learn/scikit-learn/issues/21755 */\n",
              "  display: inline-block !important;\n",
              "  position: relative;\n",
              "}\n",
              "\n",
              "#sk-container-id-1 div.sk-text-repr-fallback {\n",
              "  display: none;\n",
              "}\n",
              "\n",
              "div.sk-parallel-item,\n",
              "div.sk-serial,\n",
              "div.sk-item {\n",
              "  /* draw centered vertical line to link estimators */\n",
              "  background-image: linear-gradient(var(--sklearn-color-text-on-default-background), var(--sklearn-color-text-on-default-background));\n",
              "  background-size: 2px 100%;\n",
              "  background-repeat: no-repeat;\n",
              "  background-position: center center;\n",
              "}\n",
              "\n",
              "/* Parallel-specific style estimator block */\n",
              "\n",
              "#sk-container-id-1 div.sk-parallel-item::after {\n",
              "  content: \"\";\n",
              "  width: 100%;\n",
              "  border-bottom: 2px solid var(--sklearn-color-text-on-default-background);\n",
              "  flex-grow: 1;\n",
              "}\n",
              "\n",
              "#sk-container-id-1 div.sk-parallel {\n",
              "  display: flex;\n",
              "  align-items: stretch;\n",
              "  justify-content: center;\n",
              "  background-color: var(--sklearn-color-background);\n",
              "  position: relative;\n",
              "}\n",
              "\n",
              "#sk-container-id-1 div.sk-parallel-item {\n",
              "  display: flex;\n",
              "  flex-direction: column;\n",
              "}\n",
              "\n",
              "#sk-container-id-1 div.sk-parallel-item:first-child::after {\n",
              "  align-self: flex-end;\n",
              "  width: 50%;\n",
              "}\n",
              "\n",
              "#sk-container-id-1 div.sk-parallel-item:last-child::after {\n",
              "  align-self: flex-start;\n",
              "  width: 50%;\n",
              "}\n",
              "\n",
              "#sk-container-id-1 div.sk-parallel-item:only-child::after {\n",
              "  width: 0;\n",
              "}\n",
              "\n",
              "/* Serial-specific style estimator block */\n",
              "\n",
              "#sk-container-id-1 div.sk-serial {\n",
              "  display: flex;\n",
              "  flex-direction: column;\n",
              "  align-items: center;\n",
              "  background-color: var(--sklearn-color-background);\n",
              "  padding-right: 1em;\n",
              "  padding-left: 1em;\n",
              "}\n",
              "\n",
              "\n",
              "/* Toggleable style: style used for estimator/Pipeline/ColumnTransformer box that is\n",
              "clickable and can be expanded/collapsed.\n",
              "- Pipeline and ColumnTransformer use this feature and define the default style\n",
              "- Estimators will overwrite some part of the style using the `sk-estimator` class\n",
              "*/\n",
              "\n",
              "/* Pipeline and ColumnTransformer style (default) */\n",
              "\n",
              "#sk-container-id-1 div.sk-toggleable {\n",
              "  /* Default theme specific background. It is overwritten whether we have a\n",
              "  specific estimator or a Pipeline/ColumnTransformer */\n",
              "  background-color: var(--sklearn-color-background);\n",
              "}\n",
              "\n",
              "/* Toggleable label */\n",
              "#sk-container-id-1 label.sk-toggleable__label {\n",
              "  cursor: pointer;\n",
              "  display: flex;\n",
              "  width: 100%;\n",
              "  margin-bottom: 0;\n",
              "  padding: 0.5em;\n",
              "  box-sizing: border-box;\n",
              "  text-align: center;\n",
              "  align-items: start;\n",
              "  justify-content: space-between;\n",
              "  gap: 0.5em;\n",
              "}\n",
              "\n",
              "#sk-container-id-1 label.sk-toggleable__label .caption {\n",
              "  font-size: 0.6rem;\n",
              "  font-weight: lighter;\n",
              "  color: var(--sklearn-color-text-muted);\n",
              "}\n",
              "\n",
              "#sk-container-id-1 label.sk-toggleable__label-arrow:before {\n",
              "  /* Arrow on the left of the label */\n",
              "  content: \"▸\";\n",
              "  float: left;\n",
              "  margin-right: 0.25em;\n",
              "  color: var(--sklearn-color-icon);\n",
              "}\n",
              "\n",
              "#sk-container-id-1 label.sk-toggleable__label-arrow:hover:before {\n",
              "  color: var(--sklearn-color-text);\n",
              "}\n",
              "\n",
              "/* Toggleable content - dropdown */\n",
              "\n",
              "#sk-container-id-1 div.sk-toggleable__content {\n",
              "  max-height: 0;\n",
              "  max-width: 0;\n",
              "  overflow: hidden;\n",
              "  text-align: left;\n",
              "  /* unfitted */\n",
              "  background-color: var(--sklearn-color-unfitted-level-0);\n",
              "}\n",
              "\n",
              "#sk-container-id-1 div.sk-toggleable__content.fitted {\n",
              "  /* fitted */\n",
              "  background-color: var(--sklearn-color-fitted-level-0);\n",
              "}\n",
              "\n",
              "#sk-container-id-1 div.sk-toggleable__content pre {\n",
              "  margin: 0.2em;\n",
              "  border-radius: 0.25em;\n",
              "  color: var(--sklearn-color-text);\n",
              "  /* unfitted */\n",
              "  background-color: var(--sklearn-color-unfitted-level-0);\n",
              "}\n",
              "\n",
              "#sk-container-id-1 div.sk-toggleable__content.fitted pre {\n",
              "  /* unfitted */\n",
              "  background-color: var(--sklearn-color-fitted-level-0);\n",
              "}\n",
              "\n",
              "#sk-container-id-1 input.sk-toggleable__control:checked~div.sk-toggleable__content {\n",
              "  /* Expand drop-down */\n",
              "  max-height: 200px;\n",
              "  max-width: 100%;\n",
              "  overflow: auto;\n",
              "}\n",
              "\n",
              "#sk-container-id-1 input.sk-toggleable__control:checked~label.sk-toggleable__label-arrow:before {\n",
              "  content: \"▾\";\n",
              "}\n",
              "\n",
              "/* Pipeline/ColumnTransformer-specific style */\n",
              "\n",
              "#sk-container-id-1 div.sk-label input.sk-toggleable__control:checked~label.sk-toggleable__label {\n",
              "  color: var(--sklearn-color-text);\n",
              "  background-color: var(--sklearn-color-unfitted-level-2);\n",
              "}\n",
              "\n",
              "#sk-container-id-1 div.sk-label.fitted input.sk-toggleable__control:checked~label.sk-toggleable__label {\n",
              "  background-color: var(--sklearn-color-fitted-level-2);\n",
              "}\n",
              "\n",
              "/* Estimator-specific style */\n",
              "\n",
              "/* Colorize estimator box */\n",
              "#sk-container-id-1 div.sk-estimator input.sk-toggleable__control:checked~label.sk-toggleable__label {\n",
              "  /* unfitted */\n",
              "  background-color: var(--sklearn-color-unfitted-level-2);\n",
              "}\n",
              "\n",
              "#sk-container-id-1 div.sk-estimator.fitted input.sk-toggleable__control:checked~label.sk-toggleable__label {\n",
              "  /* fitted */\n",
              "  background-color: var(--sklearn-color-fitted-level-2);\n",
              "}\n",
              "\n",
              "#sk-container-id-1 div.sk-label label.sk-toggleable__label,\n",
              "#sk-container-id-1 div.sk-label label {\n",
              "  /* The background is the default theme color */\n",
              "  color: var(--sklearn-color-text-on-default-background);\n",
              "}\n",
              "\n",
              "/* On hover, darken the color of the background */\n",
              "#sk-container-id-1 div.sk-label:hover label.sk-toggleable__label {\n",
              "  color: var(--sklearn-color-text);\n",
              "  background-color: var(--sklearn-color-unfitted-level-2);\n",
              "}\n",
              "\n",
              "/* Label box, darken color on hover, fitted */\n",
              "#sk-container-id-1 div.sk-label.fitted:hover label.sk-toggleable__label.fitted {\n",
              "  color: var(--sklearn-color-text);\n",
              "  background-color: var(--sklearn-color-fitted-level-2);\n",
              "}\n",
              "\n",
              "/* Estimator label */\n",
              "\n",
              "#sk-container-id-1 div.sk-label label {\n",
              "  font-family: monospace;\n",
              "  font-weight: bold;\n",
              "  display: inline-block;\n",
              "  line-height: 1.2em;\n",
              "}\n",
              "\n",
              "#sk-container-id-1 div.sk-label-container {\n",
              "  text-align: center;\n",
              "}\n",
              "\n",
              "/* Estimator-specific */\n",
              "#sk-container-id-1 div.sk-estimator {\n",
              "  font-family: monospace;\n",
              "  border: 1px dotted var(--sklearn-color-border-box);\n",
              "  border-radius: 0.25em;\n",
              "  box-sizing: border-box;\n",
              "  margin-bottom: 0.5em;\n",
              "  /* unfitted */\n",
              "  background-color: var(--sklearn-color-unfitted-level-0);\n",
              "}\n",
              "\n",
              "#sk-container-id-1 div.sk-estimator.fitted {\n",
              "  /* fitted */\n",
              "  background-color: var(--sklearn-color-fitted-level-0);\n",
              "}\n",
              "\n",
              "/* on hover */\n",
              "#sk-container-id-1 div.sk-estimator:hover {\n",
              "  /* unfitted */\n",
              "  background-color: var(--sklearn-color-unfitted-level-2);\n",
              "}\n",
              "\n",
              "#sk-container-id-1 div.sk-estimator.fitted:hover {\n",
              "  /* fitted */\n",
              "  background-color: var(--sklearn-color-fitted-level-2);\n",
              "}\n",
              "\n",
              "/* Specification for estimator info (e.g. \"i\" and \"?\") */\n",
              "\n",
              "/* Common style for \"i\" and \"?\" */\n",
              "\n",
              ".sk-estimator-doc-link,\n",
              "a:link.sk-estimator-doc-link,\n",
              "a:visited.sk-estimator-doc-link {\n",
              "  float: right;\n",
              "  font-size: smaller;\n",
              "  line-height: 1em;\n",
              "  font-family: monospace;\n",
              "  background-color: var(--sklearn-color-background);\n",
              "  border-radius: 1em;\n",
              "  height: 1em;\n",
              "  width: 1em;\n",
              "  text-decoration: none !important;\n",
              "  margin-left: 0.5em;\n",
              "  text-align: center;\n",
              "  /* unfitted */\n",
              "  border: var(--sklearn-color-unfitted-level-1) 1pt solid;\n",
              "  color: var(--sklearn-color-unfitted-level-1);\n",
              "}\n",
              "\n",
              ".sk-estimator-doc-link.fitted,\n",
              "a:link.sk-estimator-doc-link.fitted,\n",
              "a:visited.sk-estimator-doc-link.fitted {\n",
              "  /* fitted */\n",
              "  border: var(--sklearn-color-fitted-level-1) 1pt solid;\n",
              "  color: var(--sklearn-color-fitted-level-1);\n",
              "}\n",
              "\n",
              "/* On hover */\n",
              "div.sk-estimator:hover .sk-estimator-doc-link:hover,\n",
              ".sk-estimator-doc-link:hover,\n",
              "div.sk-label-container:hover .sk-estimator-doc-link:hover,\n",
              ".sk-estimator-doc-link:hover {\n",
              "  /* unfitted */\n",
              "  background-color: var(--sklearn-color-unfitted-level-3);\n",
              "  color: var(--sklearn-color-background);\n",
              "  text-decoration: none;\n",
              "}\n",
              "\n",
              "div.sk-estimator.fitted:hover .sk-estimator-doc-link.fitted:hover,\n",
              ".sk-estimator-doc-link.fitted:hover,\n",
              "div.sk-label-container:hover .sk-estimator-doc-link.fitted:hover,\n",
              ".sk-estimator-doc-link.fitted:hover {\n",
              "  /* fitted */\n",
              "  background-color: var(--sklearn-color-fitted-level-3);\n",
              "  color: var(--sklearn-color-background);\n",
              "  text-decoration: none;\n",
              "}\n",
              "\n",
              "/* Span, style for the box shown on hovering the info icon */\n",
              ".sk-estimator-doc-link span {\n",
              "  display: none;\n",
              "  z-index: 9999;\n",
              "  position: relative;\n",
              "  font-weight: normal;\n",
              "  right: .2ex;\n",
              "  padding: .5ex;\n",
              "  margin: .5ex;\n",
              "  width: min-content;\n",
              "  min-width: 20ex;\n",
              "  max-width: 50ex;\n",
              "  color: var(--sklearn-color-text);\n",
              "  box-shadow: 2pt 2pt 4pt #999;\n",
              "  /* unfitted */\n",
              "  background: var(--sklearn-color-unfitted-level-0);\n",
              "  border: .5pt solid var(--sklearn-color-unfitted-level-3);\n",
              "}\n",
              "\n",
              ".sk-estimator-doc-link.fitted span {\n",
              "  /* fitted */\n",
              "  background: var(--sklearn-color-fitted-level-0);\n",
              "  border: var(--sklearn-color-fitted-level-3);\n",
              "}\n",
              "\n",
              ".sk-estimator-doc-link:hover span {\n",
              "  display: block;\n",
              "}\n",
              "\n",
              "/* \"?\"-specific style due to the `<a>` HTML tag */\n",
              "\n",
              "#sk-container-id-1 a.estimator_doc_link {\n",
              "  float: right;\n",
              "  font-size: 1rem;\n",
              "  line-height: 1em;\n",
              "  font-family: monospace;\n",
              "  background-color: var(--sklearn-color-background);\n",
              "  border-radius: 1rem;\n",
              "  height: 1rem;\n",
              "  width: 1rem;\n",
              "  text-decoration: none;\n",
              "  /* unfitted */\n",
              "  color: var(--sklearn-color-unfitted-level-1);\n",
              "  border: var(--sklearn-color-unfitted-level-1) 1pt solid;\n",
              "}\n",
              "\n",
              "#sk-container-id-1 a.estimator_doc_link.fitted {\n",
              "  /* fitted */\n",
              "  border: var(--sklearn-color-fitted-level-1) 1pt solid;\n",
              "  color: var(--sklearn-color-fitted-level-1);\n",
              "}\n",
              "\n",
              "/* On hover */\n",
              "#sk-container-id-1 a.estimator_doc_link:hover {\n",
              "  /* unfitted */\n",
              "  background-color: var(--sklearn-color-unfitted-level-3);\n",
              "  color: var(--sklearn-color-background);\n",
              "  text-decoration: none;\n",
              "}\n",
              "\n",
              "#sk-container-id-1 a.estimator_doc_link.fitted:hover {\n",
              "  /* fitted */\n",
              "  background-color: var(--sklearn-color-fitted-level-3);\n",
              "}\n",
              "</style><div id=\"sk-container-id-1\" class=\"sk-top-container\"><div class=\"sk-text-repr-fallback\"><pre>LinearRegression()</pre><b>In a Jupyter environment, please rerun this cell to show the HTML representation or trust the notebook. <br />On GitHub, the HTML representation is unable to render, please try loading this page with nbviewer.org.</b></div><div class=\"sk-container\" hidden><div class=\"sk-item\"><div class=\"sk-estimator fitted sk-toggleable\"><input class=\"sk-toggleable__control sk-hidden--visually\" id=\"sk-estimator-id-1\" type=\"checkbox\" checked><label for=\"sk-estimator-id-1\" class=\"sk-toggleable__label fitted sk-toggleable__label-arrow\"><div><div>LinearRegression</div></div><div><a class=\"sk-estimator-doc-link fitted\" rel=\"noreferrer\" target=\"_blank\" href=\"https://scikit-learn.org/1.6/modules/generated/sklearn.linear_model.LinearRegression.html\">?<span>Documentation for LinearRegression</span></a><span class=\"sk-estimator-doc-link fitted\">i<span>Fitted</span></span></div></label><div class=\"sk-toggleable__content fitted\"><pre>LinearRegression()</pre></div> </div></div></div></div>"
            ],
            "text/plain": [
              "LinearRegression()"
            ]
          },
          "execution_count": 7,
          "metadata": {},
          "output_type": "execute_result"
        }
      ],
      "source": [
        "model = linear_model.LinearRegression()\n",
        "model.fit(train_data, train_label)"
      ]
    },
    {
      "cell_type": "code",
      "execution_count": 8,
      "metadata": {
        "id": "Z5YhiecVgRg3"
      },
      "outputs": [],
      "source": [
        "predict_label = model.predict(test_data)"
      ]
    },
    {
      "cell_type": "code",
      "execution_count": 9,
      "metadata": {
        "colab": {
          "base_uri": "https://localhost:8080/",
          "height": 474
        },
        "id": "dDmzeF_8gRg3",
        "outputId": "fea7b6d3-3835-427d-90ea-66d0f0300591"
      },
      "outputs": [
        {
          "data": {
            "image/png": "[encoded data removed]",
            "text/plain": [
              "<Figure size 640x480 with 1 Axes>"
            ]
          },
          "metadata": {},
          "output_type": "display_data"
        }
      ],
      "source": [
        "plt.scatter(predict_label, test_label.values)\n",
        "\n",
        "plt.title('Predict & Real', fontdict={'size':15})\n",
        "plt.xlabel('Real')\n",
        "plt.ylabel('Predict')\n",
        "\n",
        "plt.xlim(-10, 3)\n",
        "plt.ylim(-10, 3)\n",
        "\n",
        "plt.axline((0, 0), slope=1, color='r', linestyle='-', label='y = x')\n",
        "plt.show()"
      ]
    },
    {
      "cell_type": "code",
      "execution_count": 10,
      "metadata": {
        "colab": {
          "base_uri": "https://localhost:8080/"
        },
        "id": "McIufQVogRg4",
        "outputId": "7695b92f-016c-4957-bf45-466185d7fff0"
      },
      "outputs": [
        {
          "name": "stdout",
          "output_type": "stream",
          "text": [
            "R2 Score =  0.8428978371199289\n"
          ]
        }
      ],
      "source": [
        "from sklearn import metrics\n",
        "print(\"R2 Score = \", metrics.r2_score(predict_label, test_label))"
      ]
    },
    {
      "cell_type": "code",
      "execution_count": 11,
      "metadata": {
        "colab": {
          "base_uri": "https://localhost:8080/"
        },
        "id": "VvxgFHQ9gRg4",
        "outputId": "b4a4201c-a532-43cc-c34d-5dcd6a6eba17",
        "scrolled": true
      },
      "outputs": [
        {
          "data": {
            "text/plain": [
              "array([[ 2.24985132e-01,  9.80294028e-02, -1.11077197e-01,\n",
              "        -4.51466605e-01, -4.34195635e-01,  6.77915055e-02,\n",
              "        -7.58042188e-02,  2.90003901e-02, -5.78781730e-01,\n",
              "         6.62895195e-01,  1.39543367e-01, -1.15931807e-01,\n",
              "        -4.66799720e-01,  4.91842908e-01, -3.87798322e-01,\n",
              "         7.08494107e-02, -1.73256340e-01, -4.83410418e-01,\n",
              "         1.13100945e-01, -1.03054534e-02,  1.07710835e-01,\n",
              "        -4.25193781e-02, -4.69965219e-01, -5.58653920e-01,\n",
              "         2.64052968e-01,  3.39396741e-01,  2.16091342e-03,\n",
              "         5.88899677e-02, -5.51129552e-02, -1.84331104e-01,\n",
              "         2.31147031e-01, -1.34065640e+00,  8.92972433e-01,\n",
              "        -3.77421242e-01, -1.72018039e-01, -2.11741237e-02,\n",
              "         6.76899087e-02,  2.45251459e-01, -2.07164131e-01,\n",
              "         6.23375406e-01, -2.60976445e-01, -8.16471671e-02,\n",
              "         5.39822713e-01, -4.21538120e-01,  1.15982030e-01,\n",
              "        -1.61288736e-01,  6.37332953e-02,  3.35803891e-01,\n",
              "         4.87707528e-03, -1.41007012e-01,  2.78547424e-01,\n",
              "        -2.18228462e-01,  2.02632805e-01, -3.09805353e-02,\n",
              "        -2.76903845e-01, -2.95132011e-01, -3.38243368e-02,\n",
              "         1.64608852e-01, -1.40218021e-01,  2.88667285e-01,\n",
              "        -6.19477894e-02, -1.96170125e-01,  9.89123974e-01,\n",
              "         2.51535443e-01, -2.14768072e-01,  1.81491824e-01,\n",
              "        -2.43787971e-01,  1.73645788e-01, -4.12128463e-02,\n",
              "         4.64369896e-02,  1.55833469e-01,  7.57895371e-01,\n",
              "        -5.99298092e-01,  2.34431030e-01,  1.91884567e-01,\n",
              "         4.48451804e-01,  4.02304715e-02, -3.13161783e-01,\n",
              "         5.26650161e-01,  1.38854848e-01, -4.09726173e-01,\n",
              "        -9.51355666e-02, -5.28145257e-01,  4.11308446e-01,\n",
              "        -4.22350855e-01, -1.44366653e-02, -4.65926685e-01,\n",
              "         2.46584812e-01,  2.67179631e-01, -1.91656776e-01,\n",
              "         2.64730777e-01,  4.19496496e-02,  2.39586951e-01,\n",
              "        -2.45976652e-01,  1.62431096e-02, -2.29398952e-01,\n",
              "        -4.10170744e-01, -2.94459287e-01,  9.51492144e-02,\n",
              "        -4.97502580e-01, -1.72853304e-01,  1.04475851e-03,\n",
              "        -1.72534350e-01, -2.05891082e-01, -1.67410661e-01,\n",
              "        -5.82249701e-02,  3.95530326e-01, -2.03288928e-01,\n",
              "         7.10509042e-01,  2.80556409e-01, -6.11581469e-01,\n",
              "         1.98075524e-01,  1.41147360e-01, -9.61028340e-02,\n",
              "        -2.73950328e-01, -1.00688185e-01,  3.66296121e-01,\n",
              "        -1.69225706e-01,  4.26405913e-01, -1.23822500e-01,\n",
              "        -1.33177123e-01,  1.71945973e-01, -7.19723369e-03,\n",
              "         2.16309028e-01, -6.47681334e-02, -5.58091152e-01,\n",
              "        -5.01823400e-01, -1.96766027e-01, -7.23828090e-02,\n",
              "        -3.93563561e-01,  1.60367278e-01, -1.03724811e-01,\n",
              "        -2.89863057e-01, -1.28731749e-01,  2.29904033e-01,\n",
              "         2.64045123e-02, -2.82052017e-01, -4.92156868e-02,\n",
              "        -3.67281496e-01,  1.07716747e-01,  2.28877394e-01,\n",
              "         6.28415717e-01,  7.97094127e-01,  4.68088286e-01,\n",
              "        -4.00654993e-01, -1.57754343e-01,  1.63806452e-01,\n",
              "        -2.49143491e-01, -4.40665788e-02,  1.79140067e-02,\n",
              "         1.94138003e-01, -3.79710303e-01,  3.95150875e-03,\n",
              "        -7.55211862e-01,  2.32098396e-01, -4.29559873e-01,\n",
              "        -5.76361596e-01,  2.57975372e-01,  2.21809783e-01,\n",
              "         5.77884388e-02, -3.58828743e-01,  2.87764278e-02,\n",
              "         3.66637635e-01,  6.54603201e-01,  3.72731405e-01,\n",
              "        -3.59498847e-03, -5.62418469e-01, -3.06138675e-02,\n",
              "        -7.61008349e-02, -2.13854956e-01,  3.75703660e-01,\n",
              "        -3.05541543e-01,  4.63485569e-01, -1.37177873e-01,\n",
              "         6.80143466e-02,  6.27685787e-01, -9.10526041e-02,\n",
              "         2.92653121e-01, -1.33928384e-01, -6.08227641e-01,\n",
              "         4.44814768e-01,  6.12928130e-02,  4.15721871e-01,\n",
              "         3.74201547e-01, -2.00274333e-01, -1.92127063e-01,\n",
              "         5.78079772e-01,  1.79731421e-01, -3.86383855e-01,\n",
              "         4.72236486e-02,  2.12520212e-01, -2.59284153e-01,\n",
              "         1.27512722e-01,  2.09786950e-01,  2.86179285e-02,\n",
              "         4.57991547e-01,  5.35631874e-02,  4.57990581e-02,\n",
              "        -9.08613713e-02, -1.07345903e-01, -4.34418682e-01,\n",
              "         6.33655549e-01,  4.32580320e-01, -2.42620848e-01,\n",
              "         1.61416854e-01, -7.49637951e-02,  9.32888300e-02,\n",
              "        -7.01208351e-01, -4.51917694e-03, -8.19614731e-02,\n",
              "        -2.23268741e-01,  1.33565373e-02, -1.27950730e-01,\n",
              "         1.47942495e-01, -2.00345819e-01,  1.02236793e-01,\n",
              "        -2.16206083e-01,  1.41307268e-01,  9.35108759e-02,\n",
              "         1.03663207e+00,  1.26050237e+00,  1.09729179e-01,\n",
              "        -3.99843091e-01,  4.72696749e-01,  9.53180104e-02,\n",
              "         9.30357232e-02, -2.01469173e-02, -1.14611527e-03]])"
            ]
          },
          "execution_count": 11,
          "metadata": {},
          "output_type": "execute_result"
        }
      ],
      "source": [
        "model.coef_"
      ]
    },
    {
      "cell_type": "code",
      "execution_count": 12,
      "metadata": {},
      "outputs": [
        {
          "name": "stdout",
          "output_type": "stream",
          "text": [
            "Number of coefficients: 228\n"
          ]
        }
      ],
      "source": [
        "print(\"Number of coefficients:\", model.coef_.size)"
      ]
    },
    {
      "cell_type": "code",
      "execution_count": 13,
      "metadata": {
        "colab": {
          "base_uri": "https://localhost:8080/"
        },
        "id": "JvlBFWPagRg4",
        "outputId": "e6ea2432-2880-4189-8f4b-ec7ce31b4a8f"
      },
      "outputs": [
        {
          "data": {
            "text/plain": [
              "array([-0.17681118])"
            ]
          },
          "execution_count": 13,
          "metadata": {},
          "output_type": "execute_result"
        }
      ],
      "source": [
        "model.intercept_"
      ]
    },
    {
      "cell_type": "code",
      "execution_count": 14,
      "metadata": {
        "colab": {
          "base_uri": "https://localhost:8080/"
        },
        "id": "gDU_uaiGgRg5",
        "outputId": "1a2a98e3-c35b-483e-ff0e-dc2f585102fc",
        "scrolled": true
      },
      "outputs": [
        {
          "name": "stdout",
          "output_type": "stream",
          "text": [
            "Formula :\n",
            "x = 0.22498513226930802 * FP001 + 0.0980294028161936 * FP002 + -0.11107719746641205 * FP003 + -0.4514666052124884 * FP004 + -0.43419563539162154 * FP005 + 0.06779150554300405 * FP006 + -0.07580421877370902 * FP007 + 0.02900039008454705 * FP008 + -0.5787817303843773 * FP009 + 0.6628951947463184 * FP010 + 0.13954336660370706 * FP011 + -0.11593180658530805 * FP012 + -0.4667997200505758 * FP013 + 0.491842908142678 * FP014 + -0.38779832157803656 * FP015 + 0.07084941069785017 * FP016 + -0.17325633982022953 * FP017 + -0.48341041809045115 * FP018 + 0.11310094505891988 * FP019 + -0.010305453386026335 * FP020 + 0.10771083502512882 * FP021 + -0.04251937806531608 * FP022 + -0.46996521922573353 * FP023 + -0.5586539202991844 * FP024 + 0.26405296824474755 * FP025 + 0.33939674057246094 * FP026 + 0.0021609134211940106 * FP027 + 0.05888996767243448 * FP028 + -0.05511295521336734 * FP029 + -0.18433110418992202 * FP030 + 0.23114703110970933 * FP031 + -1.3406563980175896 * FP032 + 0.8929724326886902 * FP033 + -0.37742124210891065 * FP034 + -0.17201803945192046 * FP035 + -0.021174123688665697 * FP036 + 0.06768990869485514 * FP037 + 0.24525145932220707 * FP038 + -0.20716413085559468 * FP039 + 0.6233754064856789 * FP040 + -0.26097644501361095 * FP041 + -0.08164716714819178 * FP042 + 0.5398227126472729 * FP043 + -0.4215381204832739 * FP044 + 0.11598202956539339 * FP045 + -0.16128873630429086 * FP046 + 0.06373329529072458 * FP047 + 0.33580389101951313 * FP048 + 0.004877075283605453 * FP049 + -0.1410070115417271 * FP050 + 0.27854742409178207 * FP051 + -0.21822846242838692 * FP052 + 0.20263280451128352 * FP053 + -0.030980535250624067 * FP054 + -0.27690384484677094 * FP055 + -0.29513201058716687 * FP056 + -0.03382433684930866 * FP057 + 0.164608852258053 * FP058 + -0.14021802107140507 * FP059 + 0.2886672845844441 * FP060 + -0.061947789354928506 * FP061 + -0.196170124731052 * FP062 + 0.9891239743486505 * FP063 + 0.2515354434530255 * FP064 + -0.21476807184408447 * FP065 + 0.18149182448529055 * FP066 + -0.24378797115065462 * FP067 + 0.1736457878134976 * FP068 + -0.04121284634377381 * FP069 + 0.04643698956000081 * FP070 + 0.15583346948744048 * FP071 + 0.7578953710251017 * FP072 + -0.5992980922668085 * FP073 + 0.23443102958723877 * FP074 + 0.19188456675155768 * FP075 + 0.4484518037843784 * FP076 + 0.04023047146690764 * FP077 + -0.3131617833517882 * FP078 + 0.5266501606748143 * FP079 + 0.13885484800776887 * FP080 + -0.40972617278325935 * FP081 + -0.09513556663953328 * FP082 + -0.5281452568510596 * FP083 + 0.41130844568851554 * FP084 + -0.4223508553699279 * FP085 + -0.01443666531206994 * FP086 + -0.46592668456387637 * FP087 + 0.2465848118940266 * FP088 + 0.2671796309421003 * FP089 + -0.19165677606178827 * FP090 + 0.2647307773623927 * FP091 + 0.04194964962860326 * FP092 + 0.2395869513459471 * FP093 + -0.24597665187602233 * FP094 + 0.01624310963335722 * FP095 + -0.22939895154796522 * FP096 + -0.4101707443689395 * FP097 + -0.294459286612794 * FP098 + 0.09514921441426508 * FP099 + -0.49750258032407274 * FP100 + -0.17285330412259378 * FP101 + 0.0010447585072035082 * FP102 + -0.17253434968108644 * FP103 + -0.2058910820970296 * FP104 + -0.16741066105560365 * FP105 + -0.05822497012448853 * FP106 + 0.39553032616606215 * FP107 + -0.2032889276686326 * FP108 + 0.7105090418649811 * FP109 + 0.28055640928930825 * FP110 + -0.6115814691502689 * FP111 + 0.1980755236433004 * FP112 + 0.14114736036244385 * FP113 + -0.09610283403089381 * FP114 + -0.2739503283504722 * FP115 + -0.10068818478043856 * FP116 + 0.36629612054771915 * FP117 + -0.1692257063930916 * FP118 + 0.4264059130091964 * FP119 + -0.12382249979003067 * FP120 + -0.1331771228529317 * FP121 + 0.1719459733559955 * FP122 + -0.0071972336928181335 * FP123 + 0.21630902788511078 * FP124 + -0.06476813344691572 * FP125 + -0.5580911518003075 * FP126 + -0.5018233995782031 * FP127 + -0.19676602653837588 * FP128 + -0.0723828089742791 * FP129 + -0.3935635609813518 * FP130 + 0.1603672775288485 * FP131 + -0.10372481069998939 * FP132 + -0.2898630573730142 * FP133 + -0.12873174850469016 * FP134 + 0.2299040334419803 * FP135 + 0.026404512343012426 * FP136 + -0.28205201724455536 * FP137 + -0.049215686846929396 * FP138 + -0.36728149572103513 * FP139 + 0.10771674684560038 * FP140 + 0.22887739391803688 * FP141 + 0.6284157172661501 * FP142 + 0.7970941266294512 * FP143 + 0.4680882861831884 * FP144 + -0.40065499298097584 * FP145 + -0.15775434284562018 * FP146 + 0.16380645167913022 * FP147 + -0.2491434911618754 * FP148 + -0.04406657878924719 * FP149 + 0.017914006671952018 * FP150 + 0.19413800320358698 * FP151 + -0.3797103025527327 * FP152 + 0.003951508753787442 * FP153 + -0.7552118622298746 * FP154 + 0.23209839551962175 * FP155 + -0.4295598731135788 * FP156 + -0.5763615964321923 * FP157 + 0.25797537221911926 * FP158 + 0.22180978280716812 * FP159 + 0.05778843879309817 * FP160 + -0.3588287426287642 * FP161 + 0.028776427846558733 * FP162 + 0.3666376351009719 * FP163 + 0.6546032012329733 * FP164 + 0.37273140518770403 * FP165 + -0.0035949884715567038 * FP166 + -0.5624184688244737 * FP167 + -0.03061386751794755 * FP168 + -0.07610083493582698 * FP169 + -0.21385495613379402 * FP170 + 0.3757036601103205 * FP171 + -0.30554154311548004 * FP172 + 0.46348556886929254 * FP173 + -0.13717787337465037 * FP174 + 0.06801434660847225 * FP175 + 0.6276857873037803 * FP176 + -0.09105260412242969 * FP177 + 0.292653121206808 * FP178 + -0.13392838428214457 * FP179 + -0.6082276408659346 * FP180 + 0.4448147684031684 * FP181 + 0.06129281303845219 * FP182 + 0.4157218714382327 * FP183 + 0.37420154737857947 * FP184 + -0.2002743333096335 * FP185 + -0.1921270630065834 * FP186 + 0.5780797719880859 * FP187 + 0.17973142138281586 * FP188 + -0.3863838549694494 * FP189 + 0.04722364860810384 * FP190 + 0.21252021161745022 * FP191 + -0.2592841527142837 * FP192 + 0.1275127224827805 * FP193 + 0.2097869498143855 * FP194 + 0.028617928481839916 * FP195 + 0.45799154697519956 * FP196 + 0.05356318739210719 * FP197 + 0.04579905813922013 * FP198 + -0.09086137134269962 * FP199 + -0.1073459033075406 * FP200 + -0.434418682012308 * FP201 + 0.6336555488437178 * FP202 + 0.4325803202190112 * FP203 + -0.24262084801655756 * FP204 + 0.1614168536543469 * FP205 + -0.07496379511328433 * FP206 + 0.09328883002796551 * FP207 + -0.7012083514976173 * FP208 + -0.004519176936079672 * MolWeight + -0.08196147309101642 * NumAtoms + -0.22326874068058442 * NumNonHAtoms + 0.013356537291849852 * NumBonds + -0.127950730285741 * NumNonHBonds + 0.14794249532455933 * NumMultBonds + -0.20034581939824458 * NumRotBonds + 0.10223679303977823 * NumDblBonds + -0.21620608278496975 * NumAromaticBonds + 0.14130726758703582 * NumHydrogen + 0.09351087590847679 * NumCarbon + 1.036632071632211 * NumNitrogen + 1.2605023708910896 * NumOxygen + 0.10972917936137963 * NumSulfer + -0.3998430912210915 * NumChlorine + 0.4726967489099062 * NumHalogen + 0.0953180103862159 * NumRings + 0.09303572315808932 * HydrophilicFactor + -0.020146917308239337 * SurfaceArea1 + -0.00114611526769276 * SurfaceArea2 + -0.17681118040343025\n"
          ]
        }
      ],
      "source": [
        "col_x = train_data.columns\n",
        "col_y = train_label.columns\n",
        "formul = \"\"\n",
        "for i in range(0, len(model.coef_.reshape(-1))) :\n",
        "    if model.coef_.reshape(-1)[i] != 0 :\n",
        "        formul += str(model.coef_.reshape(-1)[i]) + \" * \" + col_x[i] + \" + \"\n",
        "\n",
        "print(\"Formula :\")\n",
        "print(f\"{col_y[0]} = {formul[:-3]} + {model.intercept_[0]}\")"
      ]
    }
  ],
  "metadata": {
    "colab": {
      "provenance": []
    },
    "kernelspec": {
      "display_name": "reflective_allocator",
      "language": "python",
      "name": "python3"
    },
    "language_info": {
      "codemirror_mode": {
        "name": "ipython",
        "version": 3
      },
      "file_extension": ".py",
      "mimetype": "text/x-python",
      "name": "python",
      "nbconvert_exporter": "python",
      "pygments_lexer": "ipython3",
      "version": "3.10.16"
    }
  },
  "nbformat": 4,
  "nbformat_minor": 0
}
