{
  "cells": [
    {
      "cell_type": "markdown",
      "metadata": {
        "id": "view-in-github",
        "colab_type": "text"
      },
      "source": [
        "<a href=\"https://colab.research.google.com/github/SLCFLAB/Fintech2025/blob/main/DL_day11/0_word_embedding.ipynb\" target=\"_parent\"><img src=\"https://colab.research.google.com/assets/colab-badge.svg\" alt=\"Open In Colab\"/></a>"
      ]
    },
    {
      "cell_type": "markdown",
      "source": [
        "# NLP Preprocessing\n",
        "\n",
        "## 1. Tokenization (토큰화)\n",
        "- 문장을 단어 또는 문자 단위로 나누는 과정\n",
        "- 예제:\n",
        "  - 입력: \"자연어 처리는 흥미로운 분야입니다.\"\n",
        "  - 토큰화 결과: `[\"자연어\", \"처리\", \"는\", \"흥미로운\", \"분야\", \"입니다\"]`\n",
        "\n",
        "## 2. Stopping (불필요한 단어 제거)\n",
        "- 의미를 크게 갖지 않는 단어를 제거하는 과정\n",
        "- 일반적으로 `a, the, is, and, 은, 는, 이, 가` 같은 불용어(stopwords)를 제거\n",
        "- 예제:\n",
        "  - 입력: `[\"자연어\", \"처리\", \"는\", \"흥미로운\", \"분야\", \"입니다\"]`\n",
        "  - Stopping 결과: `[\"자연어\", \"처리\", \"흥미로운\", \"분야\"]`\n",
        "\n",
        "## 3. Stemming (어간 추출)\n",
        "- 단어의 기본 형태(어간)를 추출하는 과정\n",
        "- 예제:\n",
        "  - 입력: `[\"running\", \"runs\", \"ran\"]`\n",
        "  - Stemming 결과: `[\"run\", \"run\", \"run\"]`\n",
        "  - 입력: `[\"하다\", \"했다\", \"할 것이다\"]`\n",
        "  - Stemming 결과: `[\"하\"]`"
      ],
      "metadata": {
        "id": "hvdQPk7tRKgI"
      }
    },
    {
      "cell_type": "markdown",
      "source": [
        "### Tokenize, Stopping, Stemming"
      ],
      "metadata": {
        "id": "pEYJtcNMFH20"
      }
    },
    {
      "cell_type": "code",
      "source": [
        "import nltk\n",
        "from nltk.corpus import stopwords\n",
        "from nltk.stem import PorterStemmer\n",
        "from nltk.tokenize import word_tokenize\n",
        "!pip install gensim==4.3.0\n",
        "from gensim.models import Word2Vec\n",
        "nltk.download('stopwords')\n",
        "nltk.download('punkt_tab')"
      ],
      "metadata": {
        "id": "hcuvBKYpwMKB",
        "outputId": "20d76536-2eed-41d4-d215-d10184403a82",
        "colab": {
          "base_uri": "https://localhost:8080/"
        }
      },
      "execution_count": 1,
      "outputs": [
        {
          "output_type": "stream",
          "name": "stdout",
          "text": [
            "Requirement already satisfied: gensim==4.3.0 in /usr/local/lib/python3.11/dist-packages (4.3.0)\n",
            "Requirement already satisfied: numpy>=1.18.5 in /usr/local/lib/python3.11/dist-packages (from gensim==4.3.0) (1.24.4)\n",
            "Requirement already satisfied: scipy>=1.7.0 in /usr/local/lib/python3.11/dist-packages (from gensim==4.3.0) (1.10.1)\n",
            "Requirement already satisfied: smart-open>=1.8.1 in /usr/local/lib/python3.11/dist-packages (from gensim==4.3.0) (7.1.0)\n",
            "Requirement already satisfied: FuzzyTM>=0.4.0 in /usr/local/lib/python3.11/dist-packages (from gensim==4.3.0) (2.0.9)\n",
            "Requirement already satisfied: pandas in /usr/local/lib/python3.11/dist-packages (from FuzzyTM>=0.4.0->gensim==4.3.0) (1.5.3)\n",
            "Requirement already satisfied: pyfume in /usr/local/lib/python3.11/dist-packages (from FuzzyTM>=0.4.0->gensim==4.3.0) (0.3.4)\n",
            "Requirement already satisfied: wrapt in /usr/local/lib/python3.11/dist-packages (from smart-open>=1.8.1->gensim==4.3.0) (1.17.2)\n",
            "Requirement already satisfied: python-dateutil>=2.8.1 in /usr/local/lib/python3.11/dist-packages (from pandas->FuzzyTM>=0.4.0->gensim==4.3.0) (2.8.2)\n",
            "Requirement already satisfied: pytz>=2020.1 in /usr/local/lib/python3.11/dist-packages (from pandas->FuzzyTM>=0.4.0->gensim==4.3.0) (2025.1)\n",
            "Requirement already satisfied: simpful==2.12.0 in /usr/local/lib/python3.11/dist-packages (from pyfume->FuzzyTM>=0.4.0->gensim==4.3.0) (2.12.0)\n",
            "Requirement already satisfied: fst-pso==1.8.1 in /usr/local/lib/python3.11/dist-packages (from pyfume->FuzzyTM>=0.4.0->gensim==4.3.0) (1.8.1)\n",
            "Requirement already satisfied: miniful in /usr/local/lib/python3.11/dist-packages (from fst-pso==1.8.1->pyfume->FuzzyTM>=0.4.0->gensim==4.3.0) (0.0.6)\n",
            "Requirement already satisfied: six>=1.5 in /usr/local/lib/python3.11/dist-packages (from python-dateutil>=2.8.1->pandas->FuzzyTM>=0.4.0->gensim==4.3.0) (1.17.0)\n"
          ]
        },
        {
          "output_type": "stream",
          "name": "stderr",
          "text": [
            "[nltk_data] Downloading package stopwords to /root/nltk_data...\n",
            "[nltk_data]   Unzipping corpora/stopwords.zip.\n",
            "[nltk_data] Downloading package punkt_tab to /root/nltk_data...\n",
            "[nltk_data]   Unzipping tokenizers/punkt_tab.zip.\n"
          ]
        },
        {
          "output_type": "execute_result",
          "data": {
            "text/plain": [
              "True"
            ]
          },
          "metadata": {},
          "execution_count": 1
        }
      ]
    },
    {
      "cell_type": "code",
      "source": [
        "# 간단한 문장 예시\n",
        "sentences = [\n",
        "    'This is the first sentence for word2vec. This is the second sentence. Yet another sentence. One more sentence. And the final sentence'\n",
        "]\n",
        "\n",
        "# 스테머(stemmer) 초기화\n",
        "stemmer = PorterStemmer()\n",
        "stop_words = set(stopwords.words('english'))\n",
        "\n",
        "# 토큰화, 불용어 제거, 스테밍 함수 정의\n",
        "def preprocess_sentence(sentence):\n",
        "    tokens = word_tokenize(sentence.lower())  # 소문자로 변환 후 토큰화\n",
        "    filtered_tokens = [token for token in tokens if token.isalpha() and token not in stop_words]  # 불용어 제거 및 알파벳 문자만 선택\n",
        "    stemmed_tokens = [stemmer.stem(token) for token in filtered_tokens]  # 스테밍 적용\n",
        "    return stemmed_tokens\n",
        "\n",
        "# 모든 문장에 대해 전처리 적용\n",
        "preprocessed_sentences = [preprocess_sentence(sentence) for sentence in sentences]\n",
        "\n",
        "print(preprocessed_sentences)"
      ],
      "metadata": {
        "id": "FexxxsE2D2Df",
        "outputId": "5f29ae0d-2d8b-4ae8-eb77-11285d37f40d",
        "colab": {
          "base_uri": "https://localhost:8080/"
        }
      },
      "execution_count": 2,
      "outputs": [
        {
          "output_type": "stream",
          "name": "stdout",
          "text": [
            "[['first', 'sentenc', 'second', 'sentenc', 'yet', 'anoth', 'sentenc', 'one', 'sentenc', 'final', 'sentenc']]\n"
          ]
        }
      ]
    },
    {
      "cell_type": "markdown",
      "source": [
        "이렇게 전처리 한 후 어떻게 해야할까?\n",
        "> Word Embedding(단어를 벡터화 하는 것)\n",
        "- Bag of Words\n",
        "- Word2Vec\n",
        "\n",
        "http://w.elnn.kr/search/ 단어간의 유사도 측정\n",
        "\n",
        "단어를 벡터로 바꿔서 단어간의 연산이 가능하도록 만들었다: 비슷한 위치의 단어는 비슷한 의미를 가진다"
      ],
      "metadata": {
        "id": "C_v0oMUEaTmm"
      }
    },
    {
      "cell_type": "code",
      "execution_count": 3,
      "metadata": {
        "id": "34392ba0"
      },
      "outputs": [],
      "source": [
        "from gensim.models import Word2Vec"
      ]
    },
    {
      "cell_type": "code",
      "execution_count": 4,
      "metadata": {
        "colab": {
          "base_uri": "https://localhost:8080/"
        },
        "id": "61abb9a8",
        "outputId": "58a5c145-eb46-4730-8dbf-5ccb3f1acf26"
      },
      "outputs": [
        {
          "output_type": "stream",
          "name": "stdout",
          "text": [
            "Word2Vec<vocab=14, vector_size=100, alpha=0.025>\n"
          ]
        }
      ],
      "source": [
        "# define training data\n",
        "sentences = [['this', 'is', 'the', 'first', 'sentence', 'for', 'word2vec'],\n",
        "             ['this', 'is', 'the', 'second', 'sentence'],\n",
        "             ['yet', 'another', 'sentence'],\n",
        "             ['one', 'more', 'sentence'],\n",
        "             ['and', 'the', 'final', 'sentence']]\n",
        "# train model\n",
        "# 문장을 이용하여 단어와 벡터를 생성한다.\n",
        "model = Word2Vec(sentences, min_count=1) #min count: 빈도 작은 것은 학습하지 않기 위해서\n",
        "# summarize the loaded model\n",
        "print(model)"
      ]
    },
    {
      "cell_type": "code",
      "source": [
        "# 단어벡터를 구하고, 단어간 유사도를 확인하다\n",
        "model_result = model.wv.most_similar(\"this\")\n",
        "print(model_result)"
      ],
      "metadata": {
        "colab": {
          "base_uri": "https://localhost:8080/"
        },
        "id": "M_H92ioNkuMC",
        "outputId": "53a039ce-9ba0-4d53-cbea-1079757930cd"
      },
      "execution_count": 5,
      "outputs": [
        {
          "output_type": "stream",
          "name": "stdout",
          "text": [
            "[('and', 0.13149002194404602), ('another', 0.07497557997703552), ('the', 0.06797593086957932), ('more', 0.04157734289765358), ('word2vec', 0.04130810499191284), ('second', 0.012979976832866669), ('first', 0.00659845769405365), ('for', -0.009253417141735554), ('is', -0.013514931313693523), ('one', -0.013679763302206993)]\n"
          ]
        }
      ]
    },
    {
      "cell_type": "code",
      "source": [
        "model.wv.most_similar(\"this\")"
      ],
      "metadata": {
        "colab": {
          "base_uri": "https://localhost:8080/"
        },
        "id": "cHavfJkXk6dI",
        "outputId": "2f24d422-3f8d-48a5-dde1-7f05e882f40b"
      },
      "execution_count": 6,
      "outputs": [
        {
          "output_type": "execute_result",
          "data": {
            "text/plain": [
              "[('and', 0.13149002194404602),\n",
              " ('another', 0.07497557997703552),\n",
              " ('the', 0.06797593086957932),\n",
              " ('more', 0.04157734289765358),\n",
              " ('word2vec', 0.04130810499191284),\n",
              " ('second', 0.012979976832866669),\n",
              " ('first', 0.00659845769405365),\n",
              " ('for', -0.009253417141735554),\n",
              " ('is', -0.013514931313693523),\n",
              " ('one', -0.013679763302206993)]"
            ]
          },
          "metadata": {},
          "execution_count": 6
        }
      ]
    },
    {
      "cell_type": "code",
      "source": [
        "model.wv.similarity(w1='first', w2='second')"
      ],
      "metadata": {
        "id": "6ehLr_QKVT-o",
        "outputId": "b64efe90-7925-42a0-e7c6-77c346791741",
        "colab": {
          "base_uri": "https://localhost:8080/"
        }
      },
      "execution_count": 7,
      "outputs": [
        {
          "output_type": "execute_result",
          "data": {
            "text/plain": [
              "-0.0011978373"
            ]
          },
          "metadata": {},
          "execution_count": 7
        }
      ]
    },
    {
      "cell_type": "code",
      "source": [
        "from gensim.models import Word2Vec\n",
        "import matplotlib.pyplot as plt\n",
        "\n",
        "# 단어와 2차원 X축의 값, Y축의 값을 입력받아 2차원 그래프를 그린다\n",
        "def plot_2d_graph(vocabs, xs, ys):\n",
        "    plt.figure(figsize=(8 ,6))\n",
        "    plt.scatter(xs, ys, marker = 'o')\n",
        "    for i, v in enumerate(vocabs):\n",
        "        plt.annotate(v, xy=(xs[i], ys[i]))\n",
        "\n",
        "\n",
        "# 단어벡터를 구한다.\n",
        "word_vectors = model.wv\n",
        "vocabs = word_vectors.key_to_index\n",
        "word_vectors_list = [word_vectors[v] for v in vocabs]\n",
        "\n",
        "\n",
        "from sklearn.decomposition import PCA\n",
        "pca = PCA(n_components=2)\n",
        "xys = pca.fit_transform(word_vectors_list)\n",
        "xs = xys[:,0]\n",
        "ys = xys[:,1]\n",
        "\n",
        "plot_2d_graph(vocabs, xs, ys)"
      ],
      "metadata": {
        "id": "RzfCNVuMUZwG",
        "outputId": "a87aec3a-6d3f-44c5-a8f8-2df8f4f4a98e",
        "colab": {
          "base_uri": "https://localhost:8080/",
          "height": 522
        }
      },
      "execution_count": 8,
      "outputs": [
        {
          "output_type": "display_data",
          "data": {
            "text/plain": [
              "<Figure size 800x600 with 1 Axes>"
            ],
            "image/png": "[encoded data removed]"
          },
          "metadata": {}
        }
      ]
    },
    {
      "cell_type": "markdown",
      "source": [
        "# Word Embedding Comparison\n",
        "\n",
        "## 1. Word2Vec\n",
        "- 학습 방법: 예측 기반 (CBOW, Skip-gram)\n",
        "- 특징: 단어의 문맥을 고려하여 벡터를 학습\n",
        "- 장점: 단어 간 유사성을 잘 반영함\n",
        "- 단점: 미등록 단어(OOV, Out-Of-Vocabulary)에 취약함\n",
        "\n",
        "## 2. FastText\n",
        "- 학습 방법: 단어를 n-gram으로 분할하여 벡터를 학습\n",
        "- 특징: 부분 단어(subword) 정보를 활용하여 벡터 생성\n",
        "- 장점: OOV 문제를 해결할 수 있음\n",
        "- 단점: 모델 크기가 커질 수 있음\n",
        "\n",
        "## 3. GloVe\n",
        "- 학습 방법: 통계적 기법(Co-occurrence Matrix) 활용\n",
        "- 특징: 전역적인 단어 간 관계를 학습하여 벡터화\n",
        "- 장점: 전체 문맥을 반영하여 의미적 유사성이 강함\n",
        "- 단점: 특정 문맥에서 단어의 다의성을 반영하기 어려움"
      ],
      "metadata": {
        "id": "8q5Of1G18cJ6"
      }
    },
    {
      "cell_type": "markdown",
      "source": [
        "## 3가지 embedding 방식 간 비교\n",
        "| Model | Training Method | OOV Handling | Strengths | Weaknesses |\n",
        "|--------|----------------|--------------|------------|------------|\n",
        "| Word2Vec | Predictive (CBOW, Skip-gram) | No | Context-aware representations | Cannot handle unseen words |\n",
        "| FastText | Predictive with subwords | Yes | Handles OOV well | Large model size |\n",
        "| GloVe | Co-occurrence matrix | No | Strong semantic relationships | Limited for polysemy |"
      ],
      "metadata": {
        "id": "WlSqsbB36crS"
      }
    },
    {
      "cell_type": "code",
      "source": [
        "import nltk\n",
        "from nltk.corpus import movie_reviews\n",
        "#!pip install gensim==4.3.0\n",
        "from gensim.models import FastText\n",
        "import gensim.downloader as api\n",
        "\n",
        "import matplotlib.pyplot as plt\n",
        "from sklearn.decomposition import PCA\n",
        "import numpy as np"
      ],
      "metadata": {
        "id": "a2dMxuim6b6t"
      },
      "execution_count": 9,
      "outputs": []
    },
    {
      "cell_type": "code",
      "source": [
        "nltk.download('movie_reviews')\n",
        "sentences = [list(movie_reviews.words(fileid)) for fileid in movie_reviews.fileids()]"
      ],
      "metadata": {
        "id": "FGTOo30n6fGV",
        "outputId": "750d449e-747d-499a-ae5c-830e60bb0a7e",
        "colab": {
          "base_uri": "https://localhost:8080/"
        }
      },
      "execution_count": 10,
      "outputs": [
        {
          "output_type": "stream",
          "name": "stderr",
          "text": [
            "[nltk_data] Downloading package movie_reviews to /root/nltk_data...\n",
            "[nltk_data]   Unzipping corpora/movie_reviews.zip.\n"
          ]
        }
      ]
    },
    {
      "cell_type": "markdown",
      "source": [
        "- **`sentences`**: 학습할 문장 리스트 (예: `[['this', 'is', 'a', 'sentence'], ...]`)\n",
        "- **`vector_size=100`**: 단어 벡터 차원 수 (값이 클수록 정교하지만 메모리 사용 증가)\n",
        "- **`window=5`**: 중심 단어 기준 고려할 주변 단어 범위 (값이 크면 문맥 이해↑)\n",
        "- **`min_count=2`**: 최소 등장 횟수가 2 미만인 단어 무시 (희귀 단어 제거)\n",
        "- **`workers=4`**: 병렬처리에 사용할 CPU 코어 수 (높을수록 학습 속도 증가)"
      ],
      "metadata": {
        "id": "Dv7aHTUvAVIr"
      }
    },
    {
      "cell_type": "code",
      "source": [
        "# Word2Vec 모델 학습\n",
        "word2vec_model = Word2Vec(sentences, vector_size=100, window=5, min_count=2, workers=4)\n",
        "word2vec_model.save(\"word2vec.model\")"
      ],
      "metadata": {
        "id": "G3DP7srG7d2N"
      },
      "execution_count": 11,
      "outputs": []
    },
    {
      "cell_type": "code",
      "source": [
        "# FastText 모델 학습\n",
        "fasttext_model = FastText(sentences, vector_size=100, window=5, min_count=2, workers=4)\n",
        "fasttext_model.save(\"fasttext.model\")"
      ],
      "metadata": {
        "id": "Bw73s75_7iZL"
      },
      "execution_count": 12,
      "outputs": []
    },
    {
      "cell_type": "markdown",
      "source": [
        "- **Global Vectors for Word Representation**\n",
        "- 단어 간 **공존 확률(Co-occurrence Probability)**을 활용해 벡터화한 모델.\n",
        "- 사전 훈련(pre-trained)된 벡터를 활용하면 **학습 없이 바로 단어 의미를 분석**할 수 있음.\n",
        "  - `\"glove-wiki-gigaword-100\"`: Wikipedia + Gigaword 데이터셋으로 학습된 GloVe 벡터(100차원)."
      ],
      "metadata": {
        "id": "PzJA312lAm2t"
      }
    },
    {
      "cell_type": "code",
      "source": [
        "# GloVe 벡터 불러오기 (사전 훈련된 모델 사용)\n",
        "glove_vectors = api.load(\"glove-wiki-gigaword-100\")"
      ],
      "metadata": {
        "id": "jEuN2JcX7mBx",
        "outputId": "6dde22b1-0d8a-40e6-d8e7-2279e43036c4",
        "colab": {
          "base_uri": "https://localhost:8080/"
        }
      },
      "execution_count": 13,
      "outputs": [
        {
          "output_type": "stream",
          "name": "stdout",
          "text": [
            "[==================================================] 100.0% 128.1/128.1MB downloaded\n"
          ]
        }
      ]
    },
    {
      "cell_type": "code",
      "source": [
        "example_word = \"good\"\n",
        "print(\"Word2Vec: \", word2vec_model.wv.most_similar(example_word))\n",
        "print(\"FastText: \", fasttext_model.wv.most_similar(example_word))\n",
        "print(\"GloVe: \", glove_vectors.most_similar(example_word))"
      ],
      "metadata": {
        "id": "uIgyifhU7oyQ",
        "outputId": "16abb40c-6d12-4a2b-9356-252ac5af4cef",
        "colab": {
          "base_uri": "https://localhost:8080/"
        }
      },
      "execution_count": 14,
      "outputs": [
        {
          "output_type": "stream",
          "name": "stdout",
          "text": [
            "Word2Vec:  [('bad', 0.8723889589309692), ('funny', 0.8107608556747437), ('nice', 0.8021369576454163), ('great', 0.7762523293495178), ('perfect', 0.746029794216156), ('decent', 0.7421656250953674), ('fine', 0.733992338180542), ('fun', 0.7169681191444397), ('cool', 0.6928329467773438), ('here', 0.6733137965202332)]\n",
            "FastText:  [('osgood', 0.9739975333213806), ('goodbye', 0.9515677094459534), ('goode', 0.9387230277061462), ('goody', 0.9378269910812378), ('goofs', 0.9342917203903198), ('goofy', 0.9204383492469788), ('thurgood', 0.9178982377052307), ('goodboy', 0.9121838808059692), ('goo', 0.9037439823150635), ('bad', 0.9007972478866577)]\n",
            "GloVe:  [('better', 0.893191397190094), ('sure', 0.8314563035964966), ('really', 0.8297762274742126), ('kind', 0.8288268446922302), ('very', 0.8260800242424011), ('we', 0.8234355449676514), ('way', 0.8215398192405701), ('think', 0.8205099105834961), ('thing', 0.8171301484107971), (\"'re\", 0.8141680955886841)]\n"
          ]
        }
      ]
    },
    {
      "cell_type": "markdown",
      "source": [
        "## Visualization"
      ],
      "metadata": {
        "id": "z8ppAzfM81oD"
      }
    },
    {
      "cell_type": "code",
      "source": [
        "example_words = [\"good\", \"bad\", \"happy\", \"sad\", \"movie\", \"film\", \"actor\", \"actress\"]"
      ],
      "metadata": {
        "id": "aS0oaScj8mcd"
      },
      "execution_count": 15,
      "outputs": []
    },
    {
      "cell_type": "code",
      "source": [
        "def plot_embeddings(model, words, title):\n",
        "    vectors = [model.wv[word] for word in words if word in model.wv]\n",
        "    word_labels = [word for word in words if word in model.wv]\n",
        "\n",
        "    pca = PCA(n_components=2)\n",
        "    reduced = pca.fit_transform(vectors)\n",
        "\n",
        "    plt.figure(figsize=(8,6))\n",
        "    plt.scatter(reduced[:,0], reduced[:,1], edgecolors='k', c='blue')\n",
        "    for word, (x, y) in zip(word_labels, reduced):\n",
        "        plt.text(x + 0.05, y + 0.05, word, fontsize=12)\n",
        "\n",
        "    plt.title(title)\n",
        "    plt.show()\n",
        "\n",
        "# GloVe 시각화\n",
        "def plot_glove_embeddings(model, words, title):\n",
        "    vectors = [model[word] for word in words if word in model]\n",
        "    word_labels = [word for word in words if word in model]\n",
        "\n",
        "    pca = PCA(n_components=2)\n",
        "    reduced = pca.fit_transform(vectors)\n",
        "\n",
        "    plt.figure(figsize=(8,6))\n",
        "    plt.scatter(reduced[:,0], reduced[:,1], edgecolors='k', c='blue')\n",
        "    for word, (x, y) in zip(word_labels, reduced):\n",
        "        plt.text(x + 0.05, y + 0.05, word, fontsize=12)\n",
        "\n",
        "    plt.title(title)\n",
        "    plt.show()"
      ],
      "metadata": {
        "id": "sa4ViDi984EH"
      },
      "execution_count": 16,
      "outputs": []
    },
    {
      "cell_type": "code",
      "source": [
        "plot_embeddings(word2vec_model, example_words, \"Word2Vec Embeddings\")\n",
        "plot_embeddings(fasttext_model, example_words, \"FastText Embeddings\")\n",
        "plot_glove_embeddings(glove_vectors, example_words, \"GloVe Embeddings\")"
      ],
      "metadata": {
        "id": "pm5x0G7Y85it",
        "outputId": "d07002b1-bffb-43c8-b2f5-c4f60cb81313",
        "colab": {
          "base_uri": "https://localhost:8080/",
          "height": 1000
        }
      },
      "execution_count": 17,
      "outputs": [
        {
          "output_type": "display_data",
          "data": {
            "text/plain": [
              "<Figure size 800x600 with 1 Axes>"
            ],
            "image/png": "[encoded data removed]"
          },
          "metadata": {}
        },
        {
          "output_type": "display_data",
          "data": {
            "text/plain": [
              "<Figure size 800x600 with 1 Axes>"
            ],
            "image/png": "[encoded data removed]"
          },
          "metadata": {}
        },
        {
          "output_type": "display_data",
          "data": {
            "text/plain": [
              "<Figure size 800x600 with 1 Axes>"
            ],
            "image/png": "[encoded data removed]"
          },
          "metadata": {}
        }
      ]
    }
  ],
  "metadata": {
    "kernelspec": {
      "display_name": "Python 3",
      "name": "python3"
    },
    "language_info": {
      "codemirror_mode": {
        "name": "ipython",
        "version": 3
      },
      "file_extension": ".py",
      "mimetype": "text/x-python",
      "name": "python",
      "nbconvert_exporter": "python",
      "pygments_lexer": "ipython3",
      "version": "3.6.5"
    },
    "varInspector": {
      "cols": {
        "lenName": 16,
        "lenType": 16,
        "lenVar": 40
      },
      "kernels_config": {
        "python": {
          "delete_cmd_postfix": "",
          "delete_cmd_prefix": "del ",
          "library": "var_list.py",
          "varRefreshCmd": "print(var_dic_list())"
        },
        "r": {
          "delete_cmd_postfix": ") ",
          "delete_cmd_prefix": "rm(",
          "library": "var_list.r",
          "varRefreshCmd": "cat(var_dic_list()) "
        }
      },
      "types_to_exclude": [
        "module",
        "function",
        "builtin_function_or_method",
        "instance",
        "_Feature"
      ],
      "window_display": false
    },
    "colab": {
      "provenance": [],
      "include_colab_link": true
    }
  },
  "nbformat": 4,
  "nbformat_minor": 0
}